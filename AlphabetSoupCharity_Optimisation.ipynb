{
 "cells": [
  {
   "attachments": {},
   "cell_type": "markdown",
   "metadata": {},
   "source": [
    "## Alphabet Soup Charity - Model Optimization"
   ]
  },
  {
   "attachments": {},
   "cell_type": "markdown",
   "metadata": {},
   "source": [
    "---"
   ]
  },
  {
   "attachments": {},
   "cell_type": "markdown",
   "metadata": {},
   "source": [
    "### (1) Optimising the model by increasing the number of values for each bin & removing columns"
   ]
  },
  {
   "attachments": {},
   "cell_type": "markdown",
   "metadata": {},
   "source": [
    "Our original model includes 43 features which and inputs which may introduce high variance and low bias for our dataset, hance, manipulating the dataset by increasing the amount of values in the bins may be necessary and valueable to finetune our model. "
   ]
  },
  {
   "cell_type": "code",
   "execution_count": 1,
   "metadata": {},
   "outputs": [
    {
     "name": "stdout",
     "output_type": "stream",
     "text": [
      "Intel MKL WARNING: Support of Intel(R) Streaming SIMD Extensions 4.2 (Intel(R) SSE4.2) enabled only processors has been deprecated. Intel oneAPI Math Kernel Library 2025.0 will require Intel(R) Advanced Vector Extensions (Intel(R) AVX) instructions.\n",
      "Intel MKL WARNING: Support of Intel(R) Streaming SIMD Extensions 4.2 (Intel(R) SSE4.2) enabled only processors has been deprecated. Intel oneAPI Math Kernel Library 2025.0 will require Intel(R) Advanced Vector Extensions (Intel(R) AVX) instructions.\n"
     ]
    },
    {
     "name": "stderr",
     "output_type": "stream",
     "text": [
      "2023-10-20 11:43:00.081144: I tensorflow/core/platform/cpu_feature_guard.cc:193] This TensorFlow binary is optimized with oneAPI Deep Neural Network Library (oneDNN) to use the following CPU instructions in performance-critical operations:  SSE4.1 SSE4.2\n",
      "To enable them in other operations, rebuild TensorFlow with the appropriate compiler flags.\n"
     ]
    },
    {
     "data": {
      "text/html": [
       "<div>\n",
       "<style scoped>\n",
       "    .dataframe tbody tr th:only-of-type {\n",
       "        vertical-align: middle;\n",
       "    }\n",
       "\n",
       "    .dataframe tbody tr th {\n",
       "        vertical-align: top;\n",
       "    }\n",
       "\n",
       "    .dataframe thead th {\n",
       "        text-align: right;\n",
       "    }\n",
       "</style>\n",
       "<table border=\"1\" class=\"dataframe\">\n",
       "  <thead>\n",
       "    <tr style=\"text-align: right;\">\n",
       "      <th></th>\n",
       "      <th>EIN</th>\n",
       "      <th>NAME</th>\n",
       "      <th>APPLICATION_TYPE</th>\n",
       "      <th>AFFILIATION</th>\n",
       "      <th>CLASSIFICATION</th>\n",
       "      <th>USE_CASE</th>\n",
       "      <th>ORGANIZATION</th>\n",
       "      <th>STATUS</th>\n",
       "      <th>INCOME_AMT</th>\n",
       "      <th>SPECIAL_CONSIDERATIONS</th>\n",
       "      <th>ASK_AMT</th>\n",
       "      <th>IS_SUCCESSFUL</th>\n",
       "    </tr>\n",
       "  </thead>\n",
       "  <tbody>\n",
       "    <tr>\n",
       "      <th>0</th>\n",
       "      <td>10520599</td>\n",
       "      <td>BLUE KNIGHTS MOTORCYCLE CLUB</td>\n",
       "      <td>T10</td>\n",
       "      <td>Independent</td>\n",
       "      <td>C1000</td>\n",
       "      <td>ProductDev</td>\n",
       "      <td>Association</td>\n",
       "      <td>1</td>\n",
       "      <td>0</td>\n",
       "      <td>N</td>\n",
       "      <td>5000</td>\n",
       "      <td>1</td>\n",
       "    </tr>\n",
       "    <tr>\n",
       "      <th>1</th>\n",
       "      <td>10531628</td>\n",
       "      <td>AMERICAN CHESAPEAKE CLUB CHARITABLE TR</td>\n",
       "      <td>T3</td>\n",
       "      <td>Independent</td>\n",
       "      <td>C2000</td>\n",
       "      <td>Preservation</td>\n",
       "      <td>Co-operative</td>\n",
       "      <td>1</td>\n",
       "      <td>1-9999</td>\n",
       "      <td>N</td>\n",
       "      <td>108590</td>\n",
       "      <td>1</td>\n",
       "    </tr>\n",
       "    <tr>\n",
       "      <th>2</th>\n",
       "      <td>10547893</td>\n",
       "      <td>ST CLOUD PROFESSIONAL FIREFIGHTERS</td>\n",
       "      <td>T5</td>\n",
       "      <td>CompanySponsored</td>\n",
       "      <td>C3000</td>\n",
       "      <td>ProductDev</td>\n",
       "      <td>Association</td>\n",
       "      <td>1</td>\n",
       "      <td>0</td>\n",
       "      <td>N</td>\n",
       "      <td>5000</td>\n",
       "      <td>0</td>\n",
       "    </tr>\n",
       "    <tr>\n",
       "      <th>3</th>\n",
       "      <td>10553066</td>\n",
       "      <td>SOUTHSIDE ATHLETIC ASSOCIATION</td>\n",
       "      <td>T3</td>\n",
       "      <td>CompanySponsored</td>\n",
       "      <td>C2000</td>\n",
       "      <td>Preservation</td>\n",
       "      <td>Trust</td>\n",
       "      <td>1</td>\n",
       "      <td>10000-24999</td>\n",
       "      <td>N</td>\n",
       "      <td>6692</td>\n",
       "      <td>1</td>\n",
       "    </tr>\n",
       "    <tr>\n",
       "      <th>4</th>\n",
       "      <td>10556103</td>\n",
       "      <td>GENETIC RESEARCH INSTITUTE OF THE DESERT</td>\n",
       "      <td>T3</td>\n",
       "      <td>Independent</td>\n",
       "      <td>C1000</td>\n",
       "      <td>Heathcare</td>\n",
       "      <td>Trust</td>\n",
       "      <td>1</td>\n",
       "      <td>100000-499999</td>\n",
       "      <td>N</td>\n",
       "      <td>142590</td>\n",
       "      <td>1</td>\n",
       "    </tr>\n",
       "  </tbody>\n",
       "</table>\n",
       "</div>"
      ],
      "text/plain": [
       "        EIN                                      NAME APPLICATION_TYPE  \\\n",
       "0  10520599              BLUE KNIGHTS MOTORCYCLE CLUB              T10   \n",
       "1  10531628    AMERICAN CHESAPEAKE CLUB CHARITABLE TR               T3   \n",
       "2  10547893        ST CLOUD PROFESSIONAL FIREFIGHTERS               T5   \n",
       "3  10553066            SOUTHSIDE ATHLETIC ASSOCIATION               T3   \n",
       "4  10556103  GENETIC RESEARCH INSTITUTE OF THE DESERT               T3   \n",
       "\n",
       "        AFFILIATION CLASSIFICATION      USE_CASE  ORGANIZATION  STATUS  \\\n",
       "0       Independent          C1000    ProductDev   Association       1   \n",
       "1       Independent          C2000  Preservation  Co-operative       1   \n",
       "2  CompanySponsored          C3000    ProductDev   Association       1   \n",
       "3  CompanySponsored          C2000  Preservation         Trust       1   \n",
       "4       Independent          C1000     Heathcare         Trust       1   \n",
       "\n",
       "      INCOME_AMT SPECIAL_CONSIDERATIONS  ASK_AMT  IS_SUCCESSFUL  \n",
       "0              0                      N     5000              1  \n",
       "1         1-9999                      N   108590              1  \n",
       "2              0                      N     5000              0  \n",
       "3    10000-24999                      N     6692              1  \n",
       "4  100000-499999                      N   142590              1  "
      ]
     },
     "execution_count": 1,
     "metadata": {},
     "output_type": "execute_result"
    }
   ],
   "source": [
    "# Import our dependencies\n",
    "from sklearn.model_selection import train_test_split\n",
    "from sklearn.preprocessing import StandardScaler\n",
    "import pandas as pd\n",
    "import numpy as np\n",
    "import tensorflow as tf\n",
    "\n",
    "\n",
    "#  Import and read the charity_data.csv.\n",
    "import pandas as pd \n",
    "application_df_1 = pd.read_csv(\"https://static.bc-edx.com/data/dla-1-2/m21/lms/starter/charity_data.csv\")\n",
    "application_df_1.head()"
   ]
  },
  {
   "cell_type": "code",
   "execution_count": 2,
   "metadata": {},
   "outputs": [],
   "source": [
    "# Drop the non-beneficial ID columns, 'EIN' and 'NAME'.\n",
    "application_df_1.drop(columns=['EIN', 'NAME', 'STATUS'], axis=1, inplace=True)"
   ]
  },
  {
   "cell_type": "code",
   "execution_count": 3,
   "metadata": {},
   "outputs": [
    {
     "data": {
      "text/plain": [
       "APPLICATION_TYPE            17\n",
       "AFFILIATION                  6\n",
       "CLASSIFICATION              71\n",
       "USE_CASE                     5\n",
       "ORGANIZATION                 4\n",
       "INCOME_AMT                   9\n",
       "SPECIAL_CONSIDERATIONS       2\n",
       "ASK_AMT                   8747\n",
       "IS_SUCCESSFUL                2\n",
       "dtype: int64"
      ]
     },
     "execution_count": 3,
     "metadata": {},
     "output_type": "execute_result"
    }
   ],
   "source": [
    "# Determine the number of unique values in each column.\n",
    "application_df_1.nunique()"
   ]
  },
  {
   "cell_type": "code",
   "execution_count": 4,
   "metadata": {},
   "outputs": [
    {
     "data": {
      "text/plain": [
       "T3     27037\n",
       "T4      1542\n",
       "T6      1216\n",
       "T5      1173\n",
       "T19     1065\n",
       "T8       737\n",
       "T7       725\n",
       "T10      528\n",
       "T9       156\n",
       "T13       66\n",
       "T12       27\n",
       "T2        16\n",
       "T25        3\n",
       "T14        3\n",
       "T29        2\n",
       "T15        2\n",
       "T17        1\n",
       "Name: APPLICATION_TYPE, dtype: int64"
      ]
     },
     "execution_count": 4,
     "metadata": {},
     "output_type": "execute_result"
    }
   ],
   "source": [
    "# Look at APPLICATION_TYPE value counts for binning\n",
    "application_df_1['APPLICATION_TYPE'].value_counts()"
   ]
  },
  {
   "cell_type": "code",
   "execution_count": 5,
   "metadata": {},
   "outputs": [
    {
     "data": {
      "text/plain": [
       "T3                               27037\n",
       "Relativly Common Applications     2975\n",
       "T4                                1542\n",
       "Less Common Applications          1253\n",
       "T6                                1216\n",
       "Rare Applications                  276\n",
       "Name: APPLICATION_TYPE, dtype: int64"
      ]
     },
     "execution_count": 5,
     "metadata": {},
     "output_type": "execute_result"
    }
   ],
   "source": [
    "# Choose a cutoff value and create a list of application types to be replaced\n",
    "# use the variable name `application_types_to_replace`\n",
    "application_types_to_replace_1 = list(application_df_1['APPLICATION_TYPE'].value_counts().index)\n",
    "\n",
    "# Replace in dataframe\n",
    "for i, app in enumerate(application_types_to_replace_1):\n",
    "    if i >= 8:\n",
    "        application_df_1['APPLICATION_TYPE'] = application_df_1['APPLICATION_TYPE'].replace(app,\"Rare Applications\")\n",
    "    elif i >5 and i <=7:\n",
    "        application_df_1['APPLICATION_TYPE'] = application_df_1['APPLICATION_TYPE'].replace(app,\"Less Common Applications\")\n",
    "    elif i >2 and i <=5:\n",
    "        application_df_1['APPLICATION_TYPE'] = application_df_1['APPLICATION_TYPE'].replace(app,\"Relativly Common Applications\")\n",
    "    else:\n",
    "        continue\n",
    "\n",
    "# # Check to make sure binning was successful\n",
    "application_df_1['APPLICATION_TYPE'].value_counts()"
   ]
  },
  {
   "cell_type": "code",
   "execution_count": 6,
   "metadata": {},
   "outputs": [
    {
     "data": {
      "text/plain": [
       "C1000    17326\n",
       "C2000     6074\n",
       "C1200     4837\n",
       "C3000     1918\n",
       "C2100     1883\n",
       "         ...  \n",
       "C4120        1\n",
       "C8210        1\n",
       "C2561        1\n",
       "C4500        1\n",
       "C2150        1\n",
       "Name: CLASSIFICATION, Length: 71, dtype: int64"
      ]
     },
     "execution_count": 6,
     "metadata": {},
     "output_type": "execute_result"
    }
   ],
   "source": [
    "# Look at CLASSIFICATION value counts for binning\n",
    "application_df_1['CLASSIFICATION'].value_counts()"
   ]
  },
  {
   "cell_type": "code",
   "execution_count": 7,
   "metadata": {},
   "outputs": [
    {
     "data": {
      "text/plain": [
       "C1000    17326\n",
       "C2000     6074\n",
       "C1200     4837\n",
       "C3000     1918\n",
       "C2100     1883\n",
       "C7000      777\n",
       "C1700      287\n",
       "C4000      194\n",
       "C5000      116\n",
       "C1270      114\n",
       "C2700      104\n",
       "C2800       95\n",
       "C7100       75\n",
       "C1300       58\n",
       "C1280       50\n",
       "C1230       36\n",
       "C1400       34\n",
       "C7200       32\n",
       "C2300       32\n",
       "C1240       30\n",
       "C8000       20\n",
       "C7120       18\n",
       "C1500       16\n",
       "C1800       15\n",
       "C6000       15\n",
       "C1250       14\n",
       "C8200       11\n",
       "C1238       10\n",
       "C1278       10\n",
       "C1235        9\n",
       "C1237        9\n",
       "C7210        7\n",
       "C2400        6\n",
       "C1720        6\n",
       "C4100        6\n",
       "C1257        5\n",
       "C1600        5\n",
       "C1260        3\n",
       "C2710        3\n",
       "C0           3\n",
       "C3200        2\n",
       "C1234        2\n",
       "C1246        2\n",
       "C1267        2\n",
       "C1256        2\n",
       "Name: CLASSIFICATION, dtype: int64"
      ]
     },
     "execution_count": 7,
     "metadata": {},
     "output_type": "execute_result"
    }
   ],
   "source": [
    "# Looking at CLASSIFICATION value counts >1\n",
    "application_df_1['CLASSIFICATION'].value_counts().loc[application_df_1['CLASSIFICATION'].value_counts() > 1]"
   ]
  },
  {
   "cell_type": "code",
   "execution_count": 8,
   "metadata": {},
   "outputs": [
    {
     "data": {
      "text/plain": [
       "C1000                                  17326\n",
       "C2000                                   6074\n",
       "C1200                                   4837\n",
       "Less common government organisation     3801\n",
       "Other                                   2261\n",
       "Name: CLASSIFICATION, dtype: int64"
      ]
     },
     "execution_count": 8,
     "metadata": {},
     "output_type": "execute_result"
    }
   ],
   "source": [
    "# Choose a cutoff value and create a list of classifications to be replaced\n",
    "# use the variable name `classifications_to_replace`\n",
    "classifications_to_replace_1 = list(application_df_1['CLASSIFICATION'].value_counts().index)\n",
    "\n",
    "# Replace in dataframe\n",
    "for i, cls in enumerate(classifications_to_replace_1):\n",
    "    if i > 4:\n",
    "        application_df_1['CLASSIFICATION'] = application_df_1['CLASSIFICATION'].replace(cls,\"Other\")\n",
    "        pass\n",
    "    elif i > 2 and i<=5:\n",
    "        application_df_1['CLASSIFICATION'] = application_df_1['CLASSIFICATION'].replace(cls,\"Less common government organisation\")\n",
    "    else:\n",
    "        continue\n",
    "    \n",
    "# # Check to make sure binning was successful\n",
    "application_df_1['CLASSIFICATION'].value_counts()"
   ]
  },
  {
   "cell_type": "code",
   "execution_count": 9,
   "metadata": {},
   "outputs": [
    {
     "data": {
      "text/plain": [
       "Trust           23515\n",
       "Association     10255\n",
       "Co-operative      486\n",
       "Corporation        43\n",
       "Name: ORGANIZATION, dtype: int64"
      ]
     },
     "execution_count": 9,
     "metadata": {},
     "output_type": "execute_result"
    }
   ],
   "source": [
    "# Look at A value counts for binning\n",
    "application_df_1['ORGANIZATION'].value_counts()"
   ]
  },
  {
   "cell_type": "code",
   "execution_count": 10,
   "metadata": {},
   "outputs": [
    {
     "data": {
      "text/plain": [
       "Trust          23515\n",
       "Association    10255\n",
       "Other            529\n",
       "Name: ORGANIZATION, dtype: int64"
      ]
     },
     "execution_count": 10,
     "metadata": {},
     "output_type": "execute_result"
    }
   ],
   "source": [
    "# Choose a cutoff value and create a list of ORGANIZATION to be replaced\n",
    "organisations_to_replace_1 = list(application_df_1['ORGANIZATION'].value_counts().index[2:])\n",
    "\n",
    "# Replace in dataframe\n",
    "for org in organisations_to_replace_1:\n",
    "    application_df_1['ORGANIZATION'] = application_df_1['ORGANIZATION'].replace(org,\"Other\")\n",
    "    \n",
    "# Check to make sure binning was successful\n",
    "application_df_1['ORGANIZATION'].value_counts()"
   ]
  },
  {
   "cell_type": "code",
   "execution_count": 11,
   "metadata": {},
   "outputs": [
    {
     "data": {
      "text/plain": [
       "Independent         18480\n",
       "CompanySponsored    15705\n",
       "Family/Parent          64\n",
       "National               33\n",
       "Regional               13\n",
       "Other                   4\n",
       "Name: AFFILIATION, dtype: int64"
      ]
     },
     "execution_count": 11,
     "metadata": {},
     "output_type": "execute_result"
    }
   ],
   "source": [
    "# Look at AFFILIATION value counts for binning\n",
    "application_df_1['AFFILIATION'].value_counts()"
   ]
  },
  {
   "cell_type": "code",
   "execution_count": 12,
   "metadata": {},
   "outputs": [
    {
     "data": {
      "text/plain": [
       "Independent         18480\n",
       "CompanySponsored    15705\n",
       "Other                 114\n",
       "Name: AFFILIATION, dtype: int64"
      ]
     },
     "execution_count": 12,
     "metadata": {},
     "output_type": "execute_result"
    }
   ],
   "source": [
    "# Choose a cutoff value and create a list of AFFILIATION to be replaced\n",
    "affiliation_to_replace_1 = list(application_df_1['AFFILIATION'].value_counts().index[2:])\n",
    "\n",
    "# Replace in dataframe\n",
    "for afl in affiliation_to_replace_1:\n",
    "    application_df_1['AFFILIATION'] = application_df_1['AFFILIATION'].replace(afl,\"Other\")\n",
    "    \n",
    "# Check to make sure binning was successful\n",
    "application_df_1['AFFILIATION'].value_counts()"
   ]
  },
  {
   "cell_type": "code",
   "execution_count": 13,
   "metadata": {},
   "outputs": [],
   "source": [
    "# Convert categorical data to numeric with `pd.get_dummies`\n",
    "dummy_df_1  = pd.get_dummies(application_df_1)"
   ]
  },
  {
   "cell_type": "code",
   "execution_count": 14,
   "metadata": {},
   "outputs": [],
   "source": [
    "# Split our preprocessed data into our features and target arrays\n",
    "X_1 = dummy_df_1.drop(columns='IS_SUCCESSFUL', axis=1)\n",
    "y_1 = dummy_df_1['IS_SUCCESSFUL']\n",
    "\n",
    "# Split the preprocessed data into a training and testing dataset\n",
    "X_train_1, X_test_1, y_train_1, y_test_1 = train_test_split(X_1, y_1, random_state=1)"
   ]
  },
  {
   "cell_type": "code",
   "execution_count": 15,
   "metadata": {},
   "outputs": [],
   "source": [
    "# Create a StandardScaler instances\n",
    "scaler = StandardScaler()\n",
    "\n",
    "# Fit the StandardScaler\n",
    "X_scaler_1 = scaler.fit(X_train_1)\n",
    "\n",
    "# Scale the data\n",
    "X_train_scaled_1 = X_scaler_1.transform(X_train_1)\n",
    "X_test_scaled_1 = X_scaler_1.transform(X_test_1)"
   ]
  },
  {
   "cell_type": "code",
   "execution_count": 16,
   "metadata": {},
   "outputs": [
    {
     "name": "stdout",
     "output_type": "stream",
     "text": [
      "Model: \"sequential\"\n",
      "_________________________________________________________________\n",
      " Layer (type)                Output Shape              Param #   \n",
      "=================================================================\n",
      " dense (Dense)               (None, 80)                2800      \n",
      "                                                                 \n",
      " dense_1 (Dense)             (None, 30)                2430      \n",
      "                                                                 \n",
      " dense_2 (Dense)             (None, 1)                 31        \n",
      "                                                                 \n",
      "=================================================================\n",
      "Total params: 5,261\n",
      "Trainable params: 5,261\n",
      "Non-trainable params: 0\n",
      "_________________________________________________________________\n"
     ]
    },
    {
     "name": "stderr",
     "output_type": "stream",
     "text": [
      "2023-10-20 11:43:04.562913: I tensorflow/core/platform/cpu_feature_guard.cc:193] This TensorFlow binary is optimized with oneAPI Deep Neural Network Library (oneDNN) to use the following CPU instructions in performance-critical operations:  SSE4.1 SSE4.2\n",
      "To enable them in other operations, rebuild TensorFlow with the appropriate compiler flags.\n"
     ]
    }
   ],
   "source": [
    "# Define the model - deep neural net, i.e., the number of input features and hidden nodes for each layer.\n",
    "model_1_hidden_layer_1 = 80\n",
    "model_1_hidden_layer_2 = 30\n",
    "model_1_output_layer = 1 \n",
    "\n",
    "\n",
    "nn_1 = tf.keras.models.Sequential()\n",
    "\n",
    "# First hidden layer\n",
    "nn_1.add(tf.keras.layers.Dense(units=model_1_hidden_layer_1, activation='relu',input_dim=len(X_1.columns)))\n",
    "\n",
    "# Second hidden layer\n",
    "nn_1.add(tf.keras.layers.Dense(units=model_1_hidden_layer_2, activation='tanh'))\n",
    "\n",
    "# Output layer\n",
    "nn_1.add(tf.keras.layers.Dense(units=model_1_output_layer, activation='sigmoid'))\n",
    "\n",
    "# Check the structure of the model\n",
    "nn_1.summary()"
   ]
  },
  {
   "cell_type": "code",
   "execution_count": 17,
   "metadata": {},
   "outputs": [],
   "source": [
    "# Compile the model\n",
    "nn_1.compile(loss='binary_crossentropy', optimizer='adam', metrics=['accuracy'])\n",
    "\n",
    "# Define a callback to save the model's weights every five epochs\n",
    "checkpoint_filepath_1 = 'model_weights.h5'\n",
    "model_checkpoint_callback_1 = tf.keras.callbacks.ModelCheckpoint(\n",
    "    filepath=checkpoint_filepath_1,\n",
    "    save_weights_only=True,\n",
    "    save_freq = 5 * len(X_train_scaled_1) // 32)  # Save every five epochs"
   ]
  },
  {
   "cell_type": "code",
   "execution_count": 18,
   "metadata": {},
   "outputs": [
    {
     "name": "stdout",
     "output_type": "stream",
     "text": [
      "Epoch 1/100\n",
      "268/268 [==============================] - 1s 779us/step - loss: 0.5949 - accuracy: 0.6988\n",
      "Epoch 2/100\n",
      "268/268 [==============================] - 0s 775us/step - loss: 0.5679 - accuracy: 0.7230\n",
      "Epoch 3/100\n",
      "268/268 [==============================] - 0s 750us/step - loss: 0.5632 - accuracy: 0.7257\n",
      "Epoch 4/100\n",
      "268/268 [==============================] - 0s 751us/step - loss: 0.5599 - accuracy: 0.7278\n",
      "Epoch 5/100\n",
      "268/268 [==============================] - 0s 733us/step - loss: 0.5588 - accuracy: 0.7266\n",
      "Epoch 6/100\n",
      "268/268 [==============================] - 0s 768us/step - loss: 0.5555 - accuracy: 0.7286\n",
      "Epoch 7/100\n",
      "268/268 [==============================] - 0s 802us/step - loss: 0.5541 - accuracy: 0.7301\n",
      "Epoch 8/100\n",
      "268/268 [==============================] - 0s 732us/step - loss: 0.5544 - accuracy: 0.7315\n",
      "Epoch 9/100\n",
      "268/268 [==============================] - 0s 772us/step - loss: 0.5507 - accuracy: 0.7340\n",
      "Epoch 10/100\n",
      "268/268 [==============================] - 0s 805us/step - loss: 0.5516 - accuracy: 0.7317\n",
      "Epoch 11/100\n",
      "268/268 [==============================] - 0s 756us/step - loss: 0.5505 - accuracy: 0.7319\n",
      "Epoch 12/100\n",
      "268/268 [==============================] - 0s 805us/step - loss: 0.5507 - accuracy: 0.7320\n",
      "Epoch 13/100\n",
      "268/268 [==============================] - 0s 791us/step - loss: 0.5499 - accuracy: 0.7341\n",
      "Epoch 14/100\n",
      "268/268 [==============================] - 0s 730us/step - loss: 0.5495 - accuracy: 0.7346\n",
      "Epoch 15/100\n",
      "268/268 [==============================] - 0s 814us/step - loss: 0.5492 - accuracy: 0.7340\n",
      "Epoch 16/100\n",
      "268/268 [==============================] - 0s 816us/step - loss: 0.5474 - accuracy: 0.7359\n",
      "Epoch 17/100\n",
      "268/268 [==============================] - 0s 803us/step - loss: 0.5476 - accuracy: 0.7328\n",
      "Epoch 18/100\n",
      "268/268 [==============================] - 0s 768us/step - loss: 0.5469 - accuracy: 0.7360\n",
      "Epoch 19/100\n",
      "268/268 [==============================] - 0s 751us/step - loss: 0.5462 - accuracy: 0.7371\n",
      "Epoch 20/100\n",
      "268/268 [==============================] - 0s 744us/step - loss: 0.5464 - accuracy: 0.7368\n",
      "Epoch 21/100\n",
      "268/268 [==============================] - 0s 768us/step - loss: 0.5459 - accuracy: 0.7373\n",
      "Epoch 22/100\n",
      "268/268 [==============================] - 0s 890us/step - loss: 0.5452 - accuracy: 0.7357\n",
      "Epoch 23/100\n",
      "268/268 [==============================] - 0s 768us/step - loss: 0.5452 - accuracy: 0.7361\n",
      "Epoch 24/100\n",
      "268/268 [==============================] - 0s 784us/step - loss: 0.5455 - accuracy: 0.7377\n",
      "Epoch 25/100\n",
      "268/268 [==============================] - 0s 774us/step - loss: 0.5450 - accuracy: 0.7373\n",
      "Epoch 26/100\n",
      "268/268 [==============================] - 0s 750us/step - loss: 0.5444 - accuracy: 0.7362\n",
      "Epoch 27/100\n",
      "268/268 [==============================] - 0s 734us/step - loss: 0.5445 - accuracy: 0.7375\n",
      "Epoch 28/100\n",
      "268/268 [==============================] - 0s 818us/step - loss: 0.5442 - accuracy: 0.7382\n",
      "Epoch 29/100\n",
      "268/268 [==============================] - 0s 747us/step - loss: 0.5437 - accuracy: 0.7350\n",
      "Epoch 30/100\n",
      "268/268 [==============================] - 0s 744us/step - loss: 0.5433 - accuracy: 0.7394\n",
      "Epoch 31/100\n",
      "268/268 [==============================] - 0s 743us/step - loss: 0.5426 - accuracy: 0.7369\n",
      "Epoch 32/100\n",
      "268/268 [==============================] - 0s 711us/step - loss: 0.5430 - accuracy: 0.7366\n",
      "Epoch 33/100\n",
      "268/268 [==============================] - 0s 731us/step - loss: 0.5418 - accuracy: 0.7360\n",
      "Epoch 34/100\n",
      "268/268 [==============================] - 0s 822us/step - loss: 0.5436 - accuracy: 0.7361\n",
      "Epoch 35/100\n",
      "268/268 [==============================] - 0s 848us/step - loss: 0.5418 - accuracy: 0.7375\n",
      "Epoch 36/100\n",
      "268/268 [==============================] - 0s 791us/step - loss: 0.5418 - accuracy: 0.7376\n",
      "Epoch 37/100\n",
      "268/268 [==============================] - 0s 750us/step - loss: 0.5413 - accuracy: 0.7398\n",
      "Epoch 38/100\n",
      "268/268 [==============================] - 0s 769us/step - loss: 0.5410 - accuracy: 0.7374\n",
      "Epoch 39/100\n",
      "268/268 [==============================] - 0s 814us/step - loss: 0.5415 - accuracy: 0.7398\n",
      "Epoch 40/100\n",
      "268/268 [==============================] - 0s 739us/step - loss: 0.5405 - accuracy: 0.7383\n",
      "Epoch 41/100\n",
      "268/268 [==============================] - 0s 746us/step - loss: 0.5402 - accuracy: 0.7369\n",
      "Epoch 42/100\n",
      "268/268 [==============================] - 0s 748us/step - loss: 0.5396 - accuracy: 0.7382\n",
      "Epoch 43/100\n",
      "268/268 [==============================] - 0s 750us/step - loss: 0.5400 - accuracy: 0.7388\n",
      "Epoch 44/100\n",
      "268/268 [==============================] - 0s 859us/step - loss: 0.5395 - accuracy: 0.7404\n",
      "Epoch 45/100\n",
      "268/268 [==============================] - 0s 736us/step - loss: 0.5396 - accuracy: 0.7399\n",
      "Epoch 46/100\n",
      "268/268 [==============================] - 0s 735us/step - loss: 0.5397 - accuracy: 0.7375\n",
      "Epoch 47/100\n",
      "268/268 [==============================] - 0s 769us/step - loss: 0.5393 - accuracy: 0.7395\n",
      "Epoch 48/100\n",
      "268/268 [==============================] - 0s 748us/step - loss: 0.5390 - accuracy: 0.7375\n",
      "Epoch 49/100\n",
      "268/268 [==============================] - 0s 731us/step - loss: 0.5390 - accuracy: 0.7395\n",
      "Epoch 50/100\n",
      "268/268 [==============================] - 0s 728us/step - loss: 0.5385 - accuracy: 0.7384\n",
      "Epoch 51/100\n",
      "268/268 [==============================] - 0s 776us/step - loss: 0.5389 - accuracy: 0.7395\n",
      "Epoch 52/100\n",
      "268/268 [==============================] - 0s 717us/step - loss: 0.5382 - accuracy: 0.7388\n",
      "Epoch 53/100\n",
      "268/268 [==============================] - 0s 720us/step - loss: 0.5380 - accuracy: 0.7381\n",
      "Epoch 54/100\n",
      "268/268 [==============================] - 0s 718us/step - loss: 0.5385 - accuracy: 0.7369\n",
      "Epoch 55/100\n",
      "268/268 [==============================] - 0s 745us/step - loss: 0.5379 - accuracy: 0.7392\n",
      "Epoch 56/100\n",
      "268/268 [==============================] - 0s 746us/step - loss: 0.5378 - accuracy: 0.7376\n",
      "Epoch 57/100\n",
      "268/268 [==============================] - 0s 733us/step - loss: 0.5378 - accuracy: 0.7385\n",
      "Epoch 58/100\n",
      "268/268 [==============================] - 0s 809us/step - loss: 0.5374 - accuracy: 0.7396\n",
      "Epoch 59/100\n",
      "268/268 [==============================] - 0s 746us/step - loss: 0.5373 - accuracy: 0.7383\n",
      "Epoch 60/100\n",
      "268/268 [==============================] - 0s 764us/step - loss: 0.5367 - accuracy: 0.7401\n",
      "Epoch 61/100\n",
      "268/268 [==============================] - 0s 770us/step - loss: 0.5375 - accuracy: 0.7384\n",
      "Epoch 62/100\n",
      "268/268 [==============================] - 0s 723us/step - loss: 0.5369 - accuracy: 0.7412\n",
      "Epoch 63/100\n",
      "268/268 [==============================] - 0s 769us/step - loss: 0.5372 - accuracy: 0.7387\n",
      "Epoch 64/100\n",
      "268/268 [==============================] - 0s 747us/step - loss: 0.5363 - accuracy: 0.7415\n",
      "Epoch 65/100\n",
      "268/268 [==============================] - 0s 840us/step - loss: 0.5368 - accuracy: 0.7406\n",
      "Epoch 66/100\n",
      "268/268 [==============================] - 0s 766us/step - loss: 0.5370 - accuracy: 0.7395\n",
      "Epoch 67/100\n",
      "268/268 [==============================] - 0s 791us/step - loss: 0.5358 - accuracy: 0.7409\n",
      "Epoch 68/100\n",
      "268/268 [==============================] - 0s 793us/step - loss: 0.5362 - accuracy: 0.7401\n",
      "Epoch 69/100\n",
      "268/268 [==============================] - 0s 758us/step - loss: 0.5352 - accuracy: 0.7415\n",
      "Epoch 70/100\n",
      "268/268 [==============================] - 0s 748us/step - loss: 0.5356 - accuracy: 0.7409\n",
      "Epoch 71/100\n",
      "268/268 [==============================] - 0s 753us/step - loss: 0.5353 - accuracy: 0.7399\n",
      "Epoch 72/100\n",
      "268/268 [==============================] - 0s 833us/step - loss: 0.5355 - accuracy: 0.7410\n",
      "Epoch 73/100\n",
      "268/268 [==============================] - 0s 781us/step - loss: 0.5352 - accuracy: 0.7403\n",
      "Epoch 74/100\n",
      "268/268 [==============================] - 0s 786us/step - loss: 0.5348 - accuracy: 0.7425\n",
      "Epoch 75/100\n",
      "268/268 [==============================] - 0s 783us/step - loss: 0.5353 - accuracy: 0.7405\n",
      "Epoch 76/100\n",
      "268/268 [==============================] - 0s 756us/step - loss: 0.5348 - accuracy: 0.7399\n",
      "Epoch 77/100\n",
      "268/268 [==============================] - 0s 816us/step - loss: 0.5353 - accuracy: 0.7403\n",
      "Epoch 78/100\n",
      "268/268 [==============================] - 0s 754us/step - loss: 0.5347 - accuracy: 0.7413\n",
      "Epoch 79/100\n",
      "268/268 [==============================] - 0s 763us/step - loss: 0.5341 - accuracy: 0.7405\n",
      "Epoch 80/100\n",
      "268/268 [==============================] - 0s 758us/step - loss: 0.5344 - accuracy: 0.7415\n",
      "Epoch 81/100\n",
      "268/268 [==============================] - 0s 771us/step - loss: 0.5343 - accuracy: 0.7405\n",
      "Epoch 82/100\n",
      "268/268 [==============================] - 0s 807us/step - loss: 0.5345 - accuracy: 0.7394\n",
      "Epoch 83/100\n",
      "268/268 [==============================] - 0s 744us/step - loss: 0.5348 - accuracy: 0.7383\n",
      "Epoch 84/100\n",
      "268/268 [==============================] - 0s 750us/step - loss: 0.5339 - accuracy: 0.7416\n",
      "Epoch 85/100\n",
      "268/268 [==============================] - 0s 803us/step - loss: 0.5341 - accuracy: 0.7399\n",
      "Epoch 86/100\n",
      "268/268 [==============================] - 0s 769us/step - loss: 0.5345 - accuracy: 0.7397\n",
      "Epoch 87/100\n",
      "268/268 [==============================] - 0s 816us/step - loss: 0.5337 - accuracy: 0.7397\n",
      "Epoch 88/100\n",
      "268/268 [==============================] - 0s 801us/step - loss: 0.5335 - accuracy: 0.7391\n",
      "Epoch 89/100\n",
      "268/268 [==============================] - 0s 760us/step - loss: 0.5340 - accuracy: 0.7412\n",
      "Epoch 90/100\n",
      "268/268 [==============================] - 0s 742us/step - loss: 0.5333 - accuracy: 0.7406\n",
      "Epoch 91/100\n",
      "268/268 [==============================] - 0s 745us/step - loss: 0.5339 - accuracy: 0.7419\n",
      "Epoch 92/100\n",
      "268/268 [==============================] - 0s 814us/step - loss: 0.5329 - accuracy: 0.7413\n",
      "Epoch 93/100\n",
      "268/268 [==============================] - 0s 745us/step - loss: 0.5334 - accuracy: 0.7408\n",
      "Epoch 94/100\n",
      "268/268 [==============================] - 0s 750us/step - loss: 0.5334 - accuracy: 0.7396\n",
      "Epoch 95/100\n",
      "268/268 [==============================] - 0s 764us/step - loss: 0.5329 - accuracy: 0.7402\n",
      "Epoch 96/100\n",
      "268/268 [==============================] - 0s 756us/step - loss: 0.5328 - accuracy: 0.7425\n",
      "Epoch 97/100\n",
      "268/268 [==============================] - 0s 848us/step - loss: 0.5332 - accuracy: 0.7398\n",
      "Epoch 98/100\n",
      "268/268 [==============================] - 0s 828us/step - loss: 0.5336 - accuracy: 0.7402\n",
      "Epoch 99/100\n",
      "268/268 [==============================] - 0s 764us/step - loss: 0.5328 - accuracy: 0.7418\n",
      "Epoch 100/100\n",
      "268/268 [==============================] - 0s 757us/step - loss: 0.5328 - accuracy: 0.7406\n"
     ]
    },
    {
     "data": {
      "text/plain": [
       "<keras.callbacks.History at 0x7fcc800eb1f0>"
      ]
     },
     "execution_count": 18,
     "metadata": {},
     "output_type": "execute_result"
    }
   ],
   "source": [
    "# Train the model\n",
    "nn_1.fit(X_test_scaled_1, y_test_1, epochs=100)"
   ]
  },
  {
   "cell_type": "code",
   "execution_count": 19,
   "metadata": {},
   "outputs": [
    {
     "name": "stdout",
     "output_type": "stream",
     "text": [
      "268/268 - 0s - loss: 0.5292 - accuracy: 0.7433 - 230ms/epoch - 859us/step\n",
      "Loss: 0.5291615724563599, Accuracy: 0.7433236241340637\n"
     ]
    }
   ],
   "source": [
    "# Evaluate the model using the test data\n",
    "model_loss_1, model_accuracy_1 = nn_1.evaluate(X_test_scaled_1,y_test_1,verbose=2)\n",
    "print(f\"Loss: {model_loss_1}, Accuracy: {model_accuracy_1}\")"
   ]
  },
  {
   "attachments": {},
   "cell_type": "markdown",
   "metadata": {},
   "source": [
    "------"
   ]
  },
  {
   "attachments": {},
   "cell_type": "markdown",
   "metadata": {},
   "source": [
    "### (2) Optimising the model by increasing the apochs"
   ]
  },
  {
   "cell_type": "code",
   "execution_count": 20,
   "metadata": {},
   "outputs": [
    {
     "data": {
      "text/html": [
       "<div>\n",
       "<style scoped>\n",
       "    .dataframe tbody tr th:only-of-type {\n",
       "        vertical-align: middle;\n",
       "    }\n",
       "\n",
       "    .dataframe tbody tr th {\n",
       "        vertical-align: top;\n",
       "    }\n",
       "\n",
       "    .dataframe thead th {\n",
       "        text-align: right;\n",
       "    }\n",
       "</style>\n",
       "<table border=\"1\" class=\"dataframe\">\n",
       "  <thead>\n",
       "    <tr style=\"text-align: right;\">\n",
       "      <th></th>\n",
       "      <th>EIN</th>\n",
       "      <th>NAME</th>\n",
       "      <th>APPLICATION_TYPE</th>\n",
       "      <th>AFFILIATION</th>\n",
       "      <th>CLASSIFICATION</th>\n",
       "      <th>USE_CASE</th>\n",
       "      <th>ORGANIZATION</th>\n",
       "      <th>STATUS</th>\n",
       "      <th>INCOME_AMT</th>\n",
       "      <th>SPECIAL_CONSIDERATIONS</th>\n",
       "      <th>ASK_AMT</th>\n",
       "      <th>IS_SUCCESSFUL</th>\n",
       "    </tr>\n",
       "  </thead>\n",
       "  <tbody>\n",
       "    <tr>\n",
       "      <th>0</th>\n",
       "      <td>10520599</td>\n",
       "      <td>BLUE KNIGHTS MOTORCYCLE CLUB</td>\n",
       "      <td>T10</td>\n",
       "      <td>Independent</td>\n",
       "      <td>C1000</td>\n",
       "      <td>ProductDev</td>\n",
       "      <td>Association</td>\n",
       "      <td>1</td>\n",
       "      <td>0</td>\n",
       "      <td>N</td>\n",
       "      <td>5000</td>\n",
       "      <td>1</td>\n",
       "    </tr>\n",
       "    <tr>\n",
       "      <th>1</th>\n",
       "      <td>10531628</td>\n",
       "      <td>AMERICAN CHESAPEAKE CLUB CHARITABLE TR</td>\n",
       "      <td>T3</td>\n",
       "      <td>Independent</td>\n",
       "      <td>C2000</td>\n",
       "      <td>Preservation</td>\n",
       "      <td>Co-operative</td>\n",
       "      <td>1</td>\n",
       "      <td>1-9999</td>\n",
       "      <td>N</td>\n",
       "      <td>108590</td>\n",
       "      <td>1</td>\n",
       "    </tr>\n",
       "    <tr>\n",
       "      <th>2</th>\n",
       "      <td>10547893</td>\n",
       "      <td>ST CLOUD PROFESSIONAL FIREFIGHTERS</td>\n",
       "      <td>T5</td>\n",
       "      <td>CompanySponsored</td>\n",
       "      <td>C3000</td>\n",
       "      <td>ProductDev</td>\n",
       "      <td>Association</td>\n",
       "      <td>1</td>\n",
       "      <td>0</td>\n",
       "      <td>N</td>\n",
       "      <td>5000</td>\n",
       "      <td>0</td>\n",
       "    </tr>\n",
       "    <tr>\n",
       "      <th>3</th>\n",
       "      <td>10553066</td>\n",
       "      <td>SOUTHSIDE ATHLETIC ASSOCIATION</td>\n",
       "      <td>T3</td>\n",
       "      <td>CompanySponsored</td>\n",
       "      <td>C2000</td>\n",
       "      <td>Preservation</td>\n",
       "      <td>Trust</td>\n",
       "      <td>1</td>\n",
       "      <td>10000-24999</td>\n",
       "      <td>N</td>\n",
       "      <td>6692</td>\n",
       "      <td>1</td>\n",
       "    </tr>\n",
       "    <tr>\n",
       "      <th>4</th>\n",
       "      <td>10556103</td>\n",
       "      <td>GENETIC RESEARCH INSTITUTE OF THE DESERT</td>\n",
       "      <td>T3</td>\n",
       "      <td>Independent</td>\n",
       "      <td>C1000</td>\n",
       "      <td>Heathcare</td>\n",
       "      <td>Trust</td>\n",
       "      <td>1</td>\n",
       "      <td>100000-499999</td>\n",
       "      <td>N</td>\n",
       "      <td>142590</td>\n",
       "      <td>1</td>\n",
       "    </tr>\n",
       "  </tbody>\n",
       "</table>\n",
       "</div>"
      ],
      "text/plain": [
       "        EIN                                      NAME APPLICATION_TYPE  \\\n",
       "0  10520599              BLUE KNIGHTS MOTORCYCLE CLUB              T10   \n",
       "1  10531628    AMERICAN CHESAPEAKE CLUB CHARITABLE TR               T3   \n",
       "2  10547893        ST CLOUD PROFESSIONAL FIREFIGHTERS               T5   \n",
       "3  10553066            SOUTHSIDE ATHLETIC ASSOCIATION               T3   \n",
       "4  10556103  GENETIC RESEARCH INSTITUTE OF THE DESERT               T3   \n",
       "\n",
       "        AFFILIATION CLASSIFICATION      USE_CASE  ORGANIZATION  STATUS  \\\n",
       "0       Independent          C1000    ProductDev   Association       1   \n",
       "1       Independent          C2000  Preservation  Co-operative       1   \n",
       "2  CompanySponsored          C3000    ProductDev   Association       1   \n",
       "3  CompanySponsored          C2000  Preservation         Trust       1   \n",
       "4       Independent          C1000     Heathcare         Trust       1   \n",
       "\n",
       "      INCOME_AMT SPECIAL_CONSIDERATIONS  ASK_AMT  IS_SUCCESSFUL  \n",
       "0              0                      N     5000              1  \n",
       "1         1-9999                      N   108590              1  \n",
       "2              0                      N     5000              0  \n",
       "3    10000-24999                      N     6692              1  \n",
       "4  100000-499999                      N   142590              1  "
      ]
     },
     "execution_count": 20,
     "metadata": {},
     "output_type": "execute_result"
    }
   ],
   "source": [
    "# Import our dependencies\n",
    "from sklearn.model_selection import train_test_split\n",
    "from sklearn.preprocessing import StandardScaler\n",
    "import pandas as pd\n",
    "import tensorflow as tf\n",
    "\n",
    "\n",
    "#  Import and read the charity_data.csv.\n",
    "import pandas as pd \n",
    "application_df_2 = pd.read_csv(\"https://static.bc-edx.com/data/dla-1-2/m21/lms/starter/charity_data.csv\")\n",
    "application_df_2.head()"
   ]
  },
  {
   "cell_type": "code",
   "execution_count": 21,
   "metadata": {},
   "outputs": [],
   "source": [
    "# Drop the non-beneficial ID columns, 'EIN' and 'NAME'.\n",
    "application_df_2.drop(columns=['EIN', 'NAME'], axis=1, inplace=True)"
   ]
  },
  {
   "cell_type": "code",
   "execution_count": 22,
   "metadata": {},
   "outputs": [
    {
     "data": {
      "text/plain": [
       "APPLICATION_TYPE            17\n",
       "AFFILIATION                  6\n",
       "CLASSIFICATION              71\n",
       "USE_CASE                     5\n",
       "ORGANIZATION                 4\n",
       "STATUS                       2\n",
       "INCOME_AMT                   9\n",
       "SPECIAL_CONSIDERATIONS       2\n",
       "ASK_AMT                   8747\n",
       "IS_SUCCESSFUL                2\n",
       "dtype: int64"
      ]
     },
     "execution_count": 22,
     "metadata": {},
     "output_type": "execute_result"
    }
   ],
   "source": [
    "# Determine the number of unique values in each column.\n",
    "application_df_2.nunique()"
   ]
  },
  {
   "cell_type": "code",
   "execution_count": 23,
   "metadata": {},
   "outputs": [
    {
     "data": {
      "text/plain": [
       "T3     27037\n",
       "T4      1542\n",
       "T6      1216\n",
       "T5      1173\n",
       "T19     1065\n",
       "T8       737\n",
       "T7       725\n",
       "T10      528\n",
       "T9       156\n",
       "T13       66\n",
       "T12       27\n",
       "T2        16\n",
       "T25        3\n",
       "T14        3\n",
       "T29        2\n",
       "T15        2\n",
       "T17        1\n",
       "Name: APPLICATION_TYPE, dtype: int64"
      ]
     },
     "execution_count": 23,
     "metadata": {},
     "output_type": "execute_result"
    }
   ],
   "source": [
    "# Look at APPLICATION_TYPE value counts for binning\n",
    "application_df_2['APPLICATION_TYPE'].value_counts()"
   ]
  },
  {
   "cell_type": "code",
   "execution_count": 24,
   "metadata": {},
   "outputs": [
    {
     "data": {
      "text/plain": [
       "T3       27037\n",
       "T4        1542\n",
       "T6        1216\n",
       "T5        1173\n",
       "T19       1065\n",
       "T8         737\n",
       "T7         725\n",
       "T10        528\n",
       "Other      276\n",
       "Name: APPLICATION_TYPE, dtype: int64"
      ]
     },
     "execution_count": 24,
     "metadata": {},
     "output_type": "execute_result"
    }
   ],
   "source": [
    "# Choose a cutoff value and create a list of application types to be replaced\n",
    "# use the variable name `application_types_to_replace`\n",
    "application_types_to_replace_2 = list(application_df_2['APPLICATION_TYPE'].value_counts().index[8:])\n",
    "\n",
    "# Replace in dataframe\n",
    "for app in application_types_to_replace_2:\n",
    "    application_df_2['APPLICATION_TYPE'] = application_df_2['APPLICATION_TYPE'].replace(app,\"Other\")\n",
    "\n",
    "# Check to make sure binning was successful\n",
    "application_df_2['APPLICATION_TYPE'].value_counts()"
   ]
  },
  {
   "cell_type": "code",
   "execution_count": 25,
   "metadata": {},
   "outputs": [
    {
     "data": {
      "text/plain": [
       "C1000    17326\n",
       "C2000     6074\n",
       "C1200     4837\n",
       "C3000     1918\n",
       "C2100     1883\n",
       "         ...  \n",
       "C4120        1\n",
       "C8210        1\n",
       "C2561        1\n",
       "C4500        1\n",
       "C2150        1\n",
       "Name: CLASSIFICATION, Length: 71, dtype: int64"
      ]
     },
     "execution_count": 25,
     "metadata": {},
     "output_type": "execute_result"
    }
   ],
   "source": [
    "# Look at CLASSIFICATION value counts for binning\n",
    "application_df_2['CLASSIFICATION'].value_counts()"
   ]
  },
  {
   "cell_type": "code",
   "execution_count": 26,
   "metadata": {},
   "outputs": [
    {
     "data": {
      "text/plain": [
       "C1000    17326\n",
       "C2000     6074\n",
       "C1200     4837\n",
       "C3000     1918\n",
       "C2100     1883\n",
       "C7000      777\n",
       "C1700      287\n",
       "C4000      194\n",
       "C5000      116\n",
       "C1270      114\n",
       "C2700      104\n",
       "C2800       95\n",
       "C7100       75\n",
       "C1300       58\n",
       "C1280       50\n",
       "C1230       36\n",
       "C1400       34\n",
       "C7200       32\n",
       "C2300       32\n",
       "C1240       30\n",
       "C8000       20\n",
       "C7120       18\n",
       "C1500       16\n",
       "C1800       15\n",
       "C6000       15\n",
       "C1250       14\n",
       "C8200       11\n",
       "C1238       10\n",
       "C1278       10\n",
       "C1235        9\n",
       "C1237        9\n",
       "C7210        7\n",
       "C2400        6\n",
       "C1720        6\n",
       "C4100        6\n",
       "C1257        5\n",
       "C1600        5\n",
       "C1260        3\n",
       "C2710        3\n",
       "C0           3\n",
       "C3200        2\n",
       "C1234        2\n",
       "C1246        2\n",
       "C1267        2\n",
       "C1256        2\n",
       "Name: CLASSIFICATION, dtype: int64"
      ]
     },
     "execution_count": 26,
     "metadata": {},
     "output_type": "execute_result"
    }
   ],
   "source": [
    "# You may find it helpful to look at CLASSIFICATION value counts >1\n",
    "application_df_2['CLASSIFICATION'].value_counts().loc[application_df_2['CLASSIFICATION'].value_counts() > 1]"
   ]
  },
  {
   "cell_type": "code",
   "execution_count": 27,
   "metadata": {},
   "outputs": [
    {
     "data": {
      "text/plain": [
       "C1000    17326\n",
       "C2000     6074\n",
       "C1200     4837\n",
       "Other     2261\n",
       "C3000     1918\n",
       "C2100     1883\n",
       "Name: CLASSIFICATION, dtype: int64"
      ]
     },
     "execution_count": 27,
     "metadata": {},
     "output_type": "execute_result"
    }
   ],
   "source": [
    "# Choose a cutoff value and create a list of classifications to be replaced\n",
    "# use the variable name `classifications_to_replace`\n",
    "classifications_to_replace_2 = list(application_df_2['CLASSIFICATION'].value_counts().index[5:])\n",
    "\n",
    "# Replace in dataframe\n",
    "for cls in classifications_to_replace_2:\n",
    "    application_df_2['CLASSIFICATION'] = application_df_2['CLASSIFICATION'].replace(cls,\"Other\")\n",
    "    \n",
    "# Check to make sure binning was successful\n",
    "application_df_2['CLASSIFICATION'].value_counts()"
   ]
  },
  {
   "cell_type": "code",
   "execution_count": 28,
   "metadata": {},
   "outputs": [],
   "source": [
    "# Convert categorical data to numeric with `pd.get_dummies`\n",
    "dummy_df_2  = pd.get_dummies(application_df_2)"
   ]
  },
  {
   "cell_type": "code",
   "execution_count": 29,
   "metadata": {},
   "outputs": [],
   "source": [
    "# Split our preprocessed data into our features and target arrays\n",
    "X_2 = dummy_df_2.drop(columns='IS_SUCCESSFUL', axis=1)\n",
    "y_2 = dummy_df_2['IS_SUCCESSFUL']\n",
    "\n",
    "# Split the preprocessed data into a training and testing dataset\n",
    "X_train_2, X_test_2, y_train_2, y_test_2 = train_test_split(X_2, y_2, random_state=1)"
   ]
  },
  {
   "cell_type": "code",
   "execution_count": 31,
   "metadata": {},
   "outputs": [],
   "source": [
    "# Create a StandardScaler instances\n",
    "scaler_2 = StandardScaler()\n",
    "\n",
    "# Fit the StandardScaler\n",
    "X_scaler_2 = scaler_2.fit(X_train_2)\n",
    "\n",
    "# Scale the data\n",
    "X_train_scaled_2 = X_scaler_2.transform(X_train_2)\n",
    "X_test_scaled_2 = X_scaler_2.transform(X_test_2)"
   ]
  },
  {
   "cell_type": "code",
   "execution_count": 32,
   "metadata": {},
   "outputs": [
    {
     "name": "stdout",
     "output_type": "stream",
     "text": [
      "Model: \"sequential_1\"\n",
      "_________________________________________________________________\n",
      " Layer (type)                Output Shape              Param #   \n",
      "=================================================================\n",
      " dense_3 (Dense)             (None, 80)                3520      \n",
      "                                                                 \n",
      " dense_4 (Dense)             (None, 30)                2430      \n",
      "                                                                 \n",
      " dense_5 (Dense)             (None, 1)                 31        \n",
      "                                                                 \n",
      "=================================================================\n",
      "Total params: 5,981\n",
      "Trainable params: 5,981\n",
      "Non-trainable params: 0\n",
      "_________________________________________________________________\n"
     ]
    }
   ],
   "source": [
    "# Define the model - deep neural net, i.e., the number of input features and hidden nodes for each layer.\n",
    "model_2_hidden_layer_1 = 80\n",
    "model_2_hidden_layer_2 = 30\n",
    "model_2_output_layer = 1 \n",
    "\n",
    "\n",
    "nn_2 = tf.keras.models.Sequential()\n",
    "\n",
    "# First hidden layer\n",
    "nn_2.add(tf.keras.layers.Dense(units=model_2_hidden_layer_1, activation='relu',input_dim=len(X_2.columns)))\n",
    "\n",
    "# Second hidden layer\n",
    "nn_2.add(tf.keras.layers.Dense(units=model_2_hidden_layer_2, activation='tanh'))\n",
    "\n",
    "# Output layer\n",
    "nn_2.add(tf.keras.layers.Dense(units=model_2_output_layer, activation='sigmoid'))\n",
    "\n",
    "# Check the structure of the model\n",
    "nn_2.summary()"
   ]
  },
  {
   "cell_type": "code",
   "execution_count": 33,
   "metadata": {},
   "outputs": [],
   "source": [
    "# Compile the model\n",
    "nn_2.compile(loss='binary_crossentropy', optimizer='adam', metrics=['accuracy'])\n",
    "\n",
    "# Define a callback to save the model's weights every five epochs\n",
    "checkpoint_filepath_2 = 'model_weights.h5'\n",
    "model_checkpoint_callback_2 = tf.keras.callbacks.ModelCheckpoint(\n",
    "    filepath=checkpoint_filepath_2,\n",
    "    save_weights_only=True,\n",
    "    save_freq = 5 * len(X_train_scaled_2) // 32)  # Save every five epochs"
   ]
  },
  {
   "cell_type": "code",
   "execution_count": 34,
   "metadata": {},
   "outputs": [
    {
     "name": "stdout",
     "output_type": "stream",
     "text": [
      "Epoch 1/200\n",
      "268/268 [==============================] - 0s 813us/step - loss: 0.5855 - accuracy: 0.7124\n",
      "Epoch 2/200\n",
      "268/268 [==============================] - 0s 792us/step - loss: 0.5621 - accuracy: 0.7241\n",
      "Epoch 3/200\n",
      "268/268 [==============================] - 0s 776us/step - loss: 0.5580 - accuracy: 0.7269\n",
      "Epoch 4/200\n",
      "268/268 [==============================] - 0s 783us/step - loss: 0.5540 - accuracy: 0.7306\n",
      "Epoch 5/200\n",
      "268/268 [==============================] - 0s 762us/step - loss: 0.5498 - accuracy: 0.7313\n",
      "Epoch 6/200\n",
      "268/268 [==============================] - 0s 839us/step - loss: 0.5497 - accuracy: 0.7327\n",
      "Epoch 7/200\n",
      "268/268 [==============================] - 0s 761us/step - loss: 0.5478 - accuracy: 0.7318\n",
      "Epoch 8/200\n",
      "268/268 [==============================] - 0s 765us/step - loss: 0.5468 - accuracy: 0.7339\n",
      "Epoch 9/200\n",
      "268/268 [==============================] - 0s 758us/step - loss: 0.5457 - accuracy: 0.7348\n",
      "Epoch 10/200\n",
      "268/268 [==============================] - 0s 794us/step - loss: 0.5449 - accuracy: 0.7362\n",
      "Epoch 11/200\n",
      "268/268 [==============================] - 0s 765us/step - loss: 0.5451 - accuracy: 0.7348\n",
      "Epoch 12/200\n",
      "268/268 [==============================] - 0s 829us/step - loss: 0.5431 - accuracy: 0.7366\n",
      "Epoch 13/200\n",
      "268/268 [==============================] - 0s 766us/step - loss: 0.5428 - accuracy: 0.7369\n",
      "Epoch 14/200\n",
      "268/268 [==============================] - 0s 760us/step - loss: 0.5433 - accuracy: 0.7349\n",
      "Epoch 15/200\n",
      "268/268 [==============================] - 0s 761us/step - loss: 0.5407 - accuracy: 0.7374\n",
      "Epoch 16/200\n",
      "268/268 [==============================] - 0s 808us/step - loss: 0.5418 - accuracy: 0.7370\n",
      "Epoch 17/200\n",
      "268/268 [==============================] - 0s 892us/step - loss: 0.5398 - accuracy: 0.7396\n",
      "Epoch 18/200\n",
      "268/268 [==============================] - 0s 879us/step - loss: 0.5401 - accuracy: 0.7382\n",
      "Epoch 19/200\n",
      "268/268 [==============================] - 0s 814us/step - loss: 0.5393 - accuracy: 0.7382\n",
      "Epoch 20/200\n",
      "268/268 [==============================] - 0s 782us/step - loss: 0.5394 - accuracy: 0.7390\n",
      "Epoch 21/200\n",
      "268/268 [==============================] - 0s 814us/step - loss: 0.5391 - accuracy: 0.7375\n",
      "Epoch 22/200\n",
      "268/268 [==============================] - 0s 857us/step - loss: 0.5386 - accuracy: 0.7383\n",
      "Epoch 23/200\n",
      "268/268 [==============================] - 0s 769us/step - loss: 0.5376 - accuracy: 0.7404\n",
      "Epoch 24/200\n",
      "268/268 [==============================] - 0s 786us/step - loss: 0.5382 - accuracy: 0.7389\n",
      "Epoch 25/200\n",
      "268/268 [==============================] - 0s 826us/step - loss: 0.5375 - accuracy: 0.7390\n",
      "Epoch 26/200\n",
      "268/268 [==============================] - 0s 787us/step - loss: 0.5374 - accuracy: 0.7404\n",
      "Epoch 27/200\n",
      "268/268 [==============================] - 0s 796us/step - loss: 0.5363 - accuracy: 0.7405\n",
      "Epoch 28/200\n",
      "268/268 [==============================] - 0s 860us/step - loss: 0.5368 - accuracy: 0.7413\n",
      "Epoch 29/200\n",
      "268/268 [==============================] - 0s 780us/step - loss: 0.5361 - accuracy: 0.7402\n",
      "Epoch 30/200\n",
      "268/268 [==============================] - 0s 745us/step - loss: 0.5347 - accuracy: 0.7398\n",
      "Epoch 31/200\n",
      "268/268 [==============================] - 0s 760us/step - loss: 0.5345 - accuracy: 0.7425\n",
      "Epoch 32/200\n",
      "268/268 [==============================] - 0s 756us/step - loss: 0.5356 - accuracy: 0.7397\n",
      "Epoch 33/200\n",
      "268/268 [==============================] - 0s 765us/step - loss: 0.5352 - accuracy: 0.7419\n",
      "Epoch 34/200\n",
      "268/268 [==============================] - 0s 825us/step - loss: 0.5344 - accuracy: 0.7419\n",
      "Epoch 35/200\n",
      "268/268 [==============================] - 0s 763us/step - loss: 0.5338 - accuracy: 0.7424\n",
      "Epoch 36/200\n",
      "268/268 [==============================] - 0s 786us/step - loss: 0.5340 - accuracy: 0.7411\n",
      "Epoch 37/200\n",
      "268/268 [==============================] - 0s 788us/step - loss: 0.5339 - accuracy: 0.7427\n",
      "Epoch 38/200\n",
      "268/268 [==============================] - 0s 787us/step - loss: 0.5333 - accuracy: 0.7433\n",
      "Epoch 39/200\n",
      "268/268 [==============================] - 0s 840us/step - loss: 0.5329 - accuracy: 0.7430\n",
      "Epoch 40/200\n",
      "268/268 [==============================] - 0s 864us/step - loss: 0.5330 - accuracy: 0.7419\n",
      "Epoch 41/200\n",
      "268/268 [==============================] - 0s 750us/step - loss: 0.5324 - accuracy: 0.7439\n",
      "Epoch 42/200\n",
      "268/268 [==============================] - 0s 789us/step - loss: 0.5322 - accuracy: 0.7422\n",
      "Epoch 43/200\n",
      "268/268 [==============================] - 0s 788us/step - loss: 0.5318 - accuracy: 0.7431\n",
      "Epoch 44/200\n",
      "268/268 [==============================] - 0s 786us/step - loss: 0.5318 - accuracy: 0.7432\n",
      "Epoch 45/200\n",
      "268/268 [==============================] - 0s 922us/step - loss: 0.5316 - accuracy: 0.7450\n",
      "Epoch 46/200\n",
      "268/268 [==============================] - 0s 784us/step - loss: 0.5314 - accuracy: 0.7452\n",
      "Epoch 47/200\n",
      "268/268 [==============================] - 0s 832us/step - loss: 0.5315 - accuracy: 0.7462\n",
      "Epoch 48/200\n",
      "268/268 [==============================] - 0s 776us/step - loss: 0.5313 - accuracy: 0.7439\n",
      "Epoch 49/200\n",
      "268/268 [==============================] - 0s 776us/step - loss: 0.5310 - accuracy: 0.7436\n",
      "Epoch 50/200\n",
      "268/268 [==============================] - 0s 800us/step - loss: 0.5306 - accuracy: 0.7429\n",
      "Epoch 51/200\n",
      "268/268 [==============================] - 0s 861us/step - loss: 0.5300 - accuracy: 0.7448\n",
      "Epoch 52/200\n",
      "268/268 [==============================] - 0s 772us/step - loss: 0.5304 - accuracy: 0.7444\n",
      "Epoch 53/200\n",
      "268/268 [==============================] - 0s 795us/step - loss: 0.5303 - accuracy: 0.7439\n",
      "Epoch 54/200\n",
      "268/268 [==============================] - 0s 803us/step - loss: 0.5300 - accuracy: 0.7437\n",
      "Epoch 55/200\n",
      "268/268 [==============================] - 0s 805us/step - loss: 0.5299 - accuracy: 0.7429\n",
      "Epoch 56/200\n",
      "268/268 [==============================] - 0s 847us/step - loss: 0.5296 - accuracy: 0.7440\n",
      "Epoch 57/200\n",
      "268/268 [==============================] - 0s 759us/step - loss: 0.5295 - accuracy: 0.7431\n",
      "Epoch 58/200\n",
      "268/268 [==============================] - 0s 835us/step - loss: 0.5291 - accuracy: 0.7438\n",
      "Epoch 59/200\n",
      "268/268 [==============================] - 0s 834us/step - loss: 0.5293 - accuracy: 0.7459\n",
      "Epoch 60/200\n",
      "268/268 [==============================] - 0s 850us/step - loss: 0.5284 - accuracy: 0.7454\n",
      "Epoch 61/200\n",
      "268/268 [==============================] - 0s 750us/step - loss: 0.5289 - accuracy: 0.7444\n",
      "Epoch 62/200\n",
      "268/268 [==============================] - 0s 745us/step - loss: 0.5288 - accuracy: 0.7458\n",
      "Epoch 63/200\n",
      "268/268 [==============================] - 0s 820us/step - loss: 0.5294 - accuracy: 0.7454\n",
      "Epoch 64/200\n",
      "268/268 [==============================] - 0s 864us/step - loss: 0.5283 - accuracy: 0.7450\n",
      "Epoch 65/200\n",
      "268/268 [==============================] - 0s 766us/step - loss: 0.5281 - accuracy: 0.7447\n",
      "Epoch 66/200\n",
      "268/268 [==============================] - 0s 790us/step - loss: 0.5289 - accuracy: 0.7438\n",
      "Epoch 67/200\n",
      "268/268 [==============================] - 0s 745us/step - loss: 0.5280 - accuracy: 0.7447\n",
      "Epoch 68/200\n",
      "268/268 [==============================] - 0s 841us/step - loss: 0.5275 - accuracy: 0.7450\n",
      "Epoch 69/200\n",
      "268/268 [==============================] - 0s 775us/step - loss: 0.5273 - accuracy: 0.7443\n",
      "Epoch 70/200\n",
      "268/268 [==============================] - 0s 751us/step - loss: 0.5273 - accuracy: 0.7445\n",
      "Epoch 71/200\n",
      "268/268 [==============================] - 0s 768us/step - loss: 0.5274 - accuracy: 0.7453\n",
      "Epoch 72/200\n",
      "268/268 [==============================] - 0s 733us/step - loss: 0.5271 - accuracy: 0.7452\n",
      "Epoch 73/200\n",
      "268/268 [==============================] - 0s 814us/step - loss: 0.5270 - accuracy: 0.7453\n",
      "Epoch 74/200\n",
      "268/268 [==============================] - 0s 782us/step - loss: 0.5269 - accuracy: 0.7453\n",
      "Epoch 75/200\n",
      "268/268 [==============================] - 0s 768us/step - loss: 0.5273 - accuracy: 0.7457\n",
      "Epoch 76/200\n",
      "268/268 [==============================] - 0s 757us/step - loss: 0.5271 - accuracy: 0.7457\n",
      "Epoch 77/200\n",
      "268/268 [==============================] - 0s 844us/step - loss: 0.5264 - accuracy: 0.7455\n",
      "Epoch 78/200\n",
      "268/268 [==============================] - 0s 760us/step - loss: 0.5261 - accuracy: 0.7458\n",
      "Epoch 79/200\n",
      "268/268 [==============================] - 0s 748us/step - loss: 0.5266 - accuracy: 0.7465\n",
      "Epoch 80/200\n",
      "268/268 [==============================] - 0s 741us/step - loss: 0.5262 - accuracy: 0.7461\n",
      "Epoch 81/200\n",
      "268/268 [==============================] - 0s 746us/step - loss: 0.5261 - accuracy: 0.7471\n",
      "Epoch 82/200\n",
      "268/268 [==============================] - 0s 858us/step - loss: 0.5259 - accuracy: 0.7454\n",
      "Epoch 83/200\n",
      "268/268 [==============================] - 0s 776us/step - loss: 0.5261 - accuracy: 0.7461\n",
      "Epoch 84/200\n",
      "268/268 [==============================] - 0s 776us/step - loss: 0.5256 - accuracy: 0.7465\n",
      "Epoch 85/200\n",
      "268/268 [==============================] - 0s 795us/step - loss: 0.5255 - accuracy: 0.7459\n",
      "Epoch 86/200\n",
      "268/268 [==============================] - 0s 792us/step - loss: 0.5258 - accuracy: 0.7451\n",
      "Epoch 87/200\n",
      "268/268 [==============================] - 0s 865us/step - loss: 0.5250 - accuracy: 0.7464\n",
      "Epoch 88/200\n",
      "268/268 [==============================] - 0s 781us/step - loss: 0.5254 - accuracy: 0.7453\n",
      "Epoch 89/200\n",
      "268/268 [==============================] - 0s 739us/step - loss: 0.5255 - accuracy: 0.7455\n",
      "Epoch 90/200\n",
      "268/268 [==============================] - 0s 738us/step - loss: 0.5254 - accuracy: 0.7461\n",
      "Epoch 91/200\n",
      "268/268 [==============================] - 0s 768us/step - loss: 0.5245 - accuracy: 0.7469\n",
      "Epoch 92/200\n",
      "268/268 [==============================] - 0s 821us/step - loss: 0.5250 - accuracy: 0.7461\n",
      "Epoch 93/200\n",
      "268/268 [==============================] - 0s 743us/step - loss: 0.5247 - accuracy: 0.7473\n",
      "Epoch 94/200\n",
      "268/268 [==============================] - 0s 746us/step - loss: 0.5246 - accuracy: 0.7468\n",
      "Epoch 95/200\n",
      "268/268 [==============================] - 0s 721us/step - loss: 0.5246 - accuracy: 0.7464\n",
      "Epoch 96/200\n",
      "268/268 [==============================] - 0s 780us/step - loss: 0.5243 - accuracy: 0.7476\n",
      "Epoch 97/200\n",
      "268/268 [==============================] - 0s 747us/step - loss: 0.5240 - accuracy: 0.7460\n",
      "Epoch 98/200\n",
      "268/268 [==============================] - 0s 798us/step - loss: 0.5246 - accuracy: 0.7458\n",
      "Epoch 99/200\n",
      "268/268 [==============================] - 0s 721us/step - loss: 0.5244 - accuracy: 0.7475\n",
      "Epoch 100/200\n",
      "268/268 [==============================] - 0s 789us/step - loss: 0.5241 - accuracy: 0.7466\n",
      "Epoch 101/200\n",
      "268/268 [==============================] - 0s 824us/step - loss: 0.5243 - accuracy: 0.7471\n",
      "Epoch 102/200\n",
      "268/268 [==============================] - 0s 913us/step - loss: 0.5242 - accuracy: 0.7457\n",
      "Epoch 103/200\n",
      "268/268 [==============================] - 0s 771us/step - loss: 0.5236 - accuracy: 0.7473\n",
      "Epoch 104/200\n",
      "268/268 [==============================] - 0s 754us/step - loss: 0.5234 - accuracy: 0.7471\n",
      "Epoch 105/200\n",
      "268/268 [==============================] - 0s 727us/step - loss: 0.5238 - accuracy: 0.7472\n",
      "Epoch 106/200\n",
      "268/268 [==============================] - 0s 873us/step - loss: 0.5238 - accuracy: 0.7464\n",
      "Epoch 107/200\n",
      "268/268 [==============================] - 0s 786us/step - loss: 0.5241 - accuracy: 0.7461\n",
      "Epoch 108/200\n",
      "268/268 [==============================] - 0s 850us/step - loss: 0.5234 - accuracy: 0.7462\n",
      "Epoch 109/200\n",
      "268/268 [==============================] - 0s 787us/step - loss: 0.5233 - accuracy: 0.7469\n",
      "Epoch 110/200\n",
      "268/268 [==============================] - 0s 833us/step - loss: 0.5238 - accuracy: 0.7471\n",
      "Epoch 111/200\n",
      "268/268 [==============================] - 0s 785us/step - loss: 0.5237 - accuracy: 0.7472\n",
      "Epoch 112/200\n",
      "268/268 [==============================] - 0s 798us/step - loss: 0.5237 - accuracy: 0.7458\n",
      "Epoch 113/200\n",
      "268/268 [==============================] - 0s 764us/step - loss: 0.5234 - accuracy: 0.7465\n",
      "Epoch 114/200\n",
      "268/268 [==============================] - 0s 855us/step - loss: 0.5235 - accuracy: 0.7460\n",
      "Epoch 115/200\n",
      "268/268 [==============================] - 0s 812us/step - loss: 0.5231 - accuracy: 0.7472\n",
      "Epoch 116/200\n",
      "268/268 [==============================] - 0s 895us/step - loss: 0.5236 - accuracy: 0.7467\n",
      "Epoch 117/200\n",
      "268/268 [==============================] - 0s 783us/step - loss: 0.5228 - accuracy: 0.7468\n",
      "Epoch 118/200\n",
      "268/268 [==============================] - 0s 857us/step - loss: 0.5228 - accuracy: 0.7465\n",
      "Epoch 119/200\n",
      "268/268 [==============================] - 0s 797us/step - loss: 0.5225 - accuracy: 0.7471\n",
      "Epoch 120/200\n",
      "268/268 [==============================] - 0s 793us/step - loss: 0.5228 - accuracy: 0.7471\n",
      "Epoch 121/200\n",
      "268/268 [==============================] - 0s 861us/step - loss: 0.5223 - accuracy: 0.7458\n",
      "Epoch 122/200\n",
      "268/268 [==============================] - 0s 797us/step - loss: 0.5225 - accuracy: 0.7471\n",
      "Epoch 123/200\n",
      "268/268 [==============================] - 0s 789us/step - loss: 0.5224 - accuracy: 0.7466\n",
      "Epoch 124/200\n",
      "268/268 [==============================] - 0s 860us/step - loss: 0.5224 - accuracy: 0.7447\n",
      "Epoch 125/200\n",
      "268/268 [==============================] - 0s 800us/step - loss: 0.5227 - accuracy: 0.7473\n",
      "Epoch 126/200\n",
      "268/268 [==============================] - 0s 789us/step - loss: 0.5223 - accuracy: 0.7467\n",
      "Epoch 127/200\n",
      "268/268 [==============================] - 0s 859us/step - loss: 0.5226 - accuracy: 0.7464\n",
      "Epoch 128/200\n",
      "268/268 [==============================] - 0s 783us/step - loss: 0.5223 - accuracy: 0.7479\n",
      "Epoch 129/200\n",
      "268/268 [==============================] - 0s 882us/step - loss: 0.5227 - accuracy: 0.7472\n",
      "Epoch 130/200\n",
      "268/268 [==============================] - 0s 757us/step - loss: 0.5217 - accuracy: 0.7474\n",
      "Epoch 131/200\n",
      "268/268 [==============================] - 0s 753us/step - loss: 0.5222 - accuracy: 0.7471\n",
      "Epoch 132/200\n",
      "268/268 [==============================] - 0s 833us/step - loss: 0.5225 - accuracy: 0.7460\n",
      "Epoch 133/200\n",
      "268/268 [==============================] - 0s 841us/step - loss: 0.5218 - accuracy: 0.7471\n",
      "Epoch 134/200\n",
      "268/268 [==============================] - 0s 790us/step - loss: 0.5220 - accuracy: 0.7471\n",
      "Epoch 135/200\n",
      "268/268 [==============================] - 0s 811us/step - loss: 0.5220 - accuracy: 0.7474\n",
      "Epoch 136/200\n",
      "268/268 [==============================] - 0s 828us/step - loss: 0.5222 - accuracy: 0.7474\n",
      "Epoch 137/200\n",
      "268/268 [==============================] - 0s 822us/step - loss: 0.5213 - accuracy: 0.7471\n",
      "Epoch 138/200\n",
      "268/268 [==============================] - 0s 870us/step - loss: 0.5219 - accuracy: 0.7461\n",
      "Epoch 139/200\n",
      "268/268 [==============================] - 0s 806us/step - loss: 0.5216 - accuracy: 0.7472\n",
      "Epoch 140/200\n",
      "268/268 [==============================] - 0s 780us/step - loss: 0.5217 - accuracy: 0.7472\n",
      "Epoch 141/200\n",
      "268/268 [==============================] - 0s 780us/step - loss: 0.5214 - accuracy: 0.7474\n",
      "Epoch 142/200\n",
      "268/268 [==============================] - 0s 758us/step - loss: 0.5218 - accuracy: 0.7475\n",
      "Epoch 143/200\n",
      "268/268 [==============================] - 0s 866us/step - loss: 0.5223 - accuracy: 0.7468\n",
      "Epoch 144/200\n",
      "268/268 [==============================] - 0s 761us/step - loss: 0.5215 - accuracy: 0.7467\n",
      "Epoch 145/200\n",
      "268/268 [==============================] - 0s 781us/step - loss: 0.5219 - accuracy: 0.7471\n",
      "Epoch 146/200\n",
      "268/268 [==============================] - 0s 784us/step - loss: 0.5216 - accuracy: 0.7471\n",
      "Epoch 147/200\n",
      "268/268 [==============================] - 0s 772us/step - loss: 0.5212 - accuracy: 0.7476\n",
      "Epoch 148/200\n",
      "268/268 [==============================] - 0s 831us/step - loss: 0.5213 - accuracy: 0.7476\n",
      "Epoch 149/200\n",
      "268/268 [==============================] - 0s 770us/step - loss: 0.5212 - accuracy: 0.7478\n",
      "Epoch 150/200\n",
      "268/268 [==============================] - 0s 814us/step - loss: 0.5217 - accuracy: 0.7480\n",
      "Epoch 151/200\n",
      "268/268 [==============================] - 0s 798us/step - loss: 0.5212 - accuracy: 0.7479\n",
      "Epoch 152/200\n",
      "268/268 [==============================] - 0s 851us/step - loss: 0.5209 - accuracy: 0.7473\n",
      "Epoch 153/200\n",
      "268/268 [==============================] - 0s 796us/step - loss: 0.5212 - accuracy: 0.7475\n",
      "Epoch 154/200\n",
      "268/268 [==============================] - 0s 769us/step - loss: 0.5209 - accuracy: 0.7480\n",
      "Epoch 155/200\n",
      "268/268 [==============================] - 0s 786us/step - loss: 0.5207 - accuracy: 0.7474\n",
      "Epoch 156/200\n",
      "268/268 [==============================] - 0s 816us/step - loss: 0.5213 - accuracy: 0.7469\n",
      "Epoch 157/200\n",
      "268/268 [==============================] - 0s 860us/step - loss: 0.5207 - accuracy: 0.7468\n",
      "Epoch 158/200\n",
      "268/268 [==============================] - 0s 778us/step - loss: 0.5208 - accuracy: 0.7472\n",
      "Epoch 159/200\n",
      "268/268 [==============================] - 0s 790us/step - loss: 0.5214 - accuracy: 0.7473\n",
      "Epoch 160/200\n",
      "268/268 [==============================] - 0s 783us/step - loss: 0.5221 - accuracy: 0.7474\n",
      "Epoch 161/200\n",
      "268/268 [==============================] - 0s 812us/step - loss: 0.5211 - accuracy: 0.7478\n",
      "Epoch 162/200\n",
      "268/268 [==============================] - 0s 894us/step - loss: 0.5209 - accuracy: 0.7473\n",
      "Epoch 163/200\n",
      "268/268 [==============================] - 0s 767us/step - loss: 0.5216 - accuracy: 0.7468\n",
      "Epoch 164/200\n",
      "268/268 [==============================] - 0s 810us/step - loss: 0.5211 - accuracy: 0.7474\n",
      "Epoch 165/200\n",
      "268/268 [==============================] - 0s 786us/step - loss: 0.5212 - accuracy: 0.7468\n",
      "Epoch 166/200\n",
      "268/268 [==============================] - 0s 837us/step - loss: 0.5208 - accuracy: 0.7471\n",
      "Epoch 167/200\n",
      "268/268 [==============================] - 0s 827us/step - loss: 0.5211 - accuracy: 0.7468\n",
      "Epoch 168/200\n",
      "268/268 [==============================] - 0s 770us/step - loss: 0.5207 - accuracy: 0.7476\n",
      "Epoch 169/200\n",
      "268/268 [==============================] - 0s 764us/step - loss: 0.5208 - accuracy: 0.7466\n",
      "Epoch 170/200\n",
      "268/268 [==============================] - 0s 765us/step - loss: 0.5207 - accuracy: 0.7473\n",
      "Epoch 171/200\n",
      "268/268 [==============================] - 0s 799us/step - loss: 0.5205 - accuracy: 0.7475\n",
      "Epoch 172/200\n",
      "268/268 [==============================] - 0s 828us/step - loss: 0.5222 - accuracy: 0.7469\n",
      "Epoch 173/200\n",
      "268/268 [==============================] - 0s 758us/step - loss: 0.5221 - accuracy: 0.7466\n",
      "Epoch 174/200\n",
      "268/268 [==============================] - 0s 749us/step - loss: 0.5219 - accuracy: 0.7460\n",
      "Epoch 175/200\n",
      "268/268 [==============================] - 0s 778us/step - loss: 0.5206 - accuracy: 0.7465\n",
      "Epoch 176/200\n",
      "268/268 [==============================] - 0s 769us/step - loss: 0.5210 - accuracy: 0.7469\n",
      "Epoch 177/200\n",
      "268/268 [==============================] - 0s 827us/step - loss: 0.5207 - accuracy: 0.7471\n",
      "Epoch 178/200\n",
      "268/268 [==============================] - 0s 783us/step - loss: 0.5209 - accuracy: 0.7471\n",
      "Epoch 179/200\n",
      "268/268 [==============================] - 0s 755us/step - loss: 0.5204 - accuracy: 0.7473\n",
      "Epoch 180/200\n",
      "268/268 [==============================] - 0s 760us/step - loss: 0.5202 - accuracy: 0.7473\n",
      "Epoch 181/200\n",
      "268/268 [==============================] - 0s 777us/step - loss: 0.5204 - accuracy: 0.7471\n",
      "Epoch 182/200\n",
      "268/268 [==============================] - 0s 854us/step - loss: 0.5199 - accuracy: 0.7474\n",
      "Epoch 183/200\n",
      "268/268 [==============================] - 0s 822us/step - loss: 0.5199 - accuracy: 0.7472\n",
      "Epoch 184/200\n",
      "268/268 [==============================] - 0s 764us/step - loss: 0.5201 - accuracy: 0.7468\n",
      "Epoch 185/200\n",
      "268/268 [==============================] - 0s 794us/step - loss: 0.5208 - accuracy: 0.7469\n",
      "Epoch 186/200\n",
      "268/268 [==============================] - 0s 774us/step - loss: 0.5217 - accuracy: 0.7474\n",
      "Epoch 187/200\n",
      "268/268 [==============================] - 0s 828us/step - loss: 0.5213 - accuracy: 0.7461\n",
      "Epoch 188/200\n",
      "268/268 [==============================] - 0s 781us/step - loss: 0.5223 - accuracy: 0.7478\n",
      "Epoch 189/200\n",
      "268/268 [==============================] - 0s 772us/step - loss: 0.5207 - accuracy: 0.7474\n",
      "Epoch 190/200\n",
      "268/268 [==============================] - 0s 764us/step - loss: 0.5210 - accuracy: 0.7480\n",
      "Epoch 191/200\n",
      "268/268 [==============================] - 0s 761us/step - loss: 0.5210 - accuracy: 0.7478\n",
      "Epoch 192/200\n",
      "268/268 [==============================] - 0s 848us/step - loss: 0.5204 - accuracy: 0.7471\n",
      "Epoch 193/200\n",
      "268/268 [==============================] - 0s 749us/step - loss: 0.5205 - accuracy: 0.7475\n",
      "Epoch 194/200\n",
      "268/268 [==============================] - 0s 763us/step - loss: 0.5203 - accuracy: 0.7478\n",
      "Epoch 195/200\n",
      "268/268 [==============================] - 0s 775us/step - loss: 0.5207 - accuracy: 0.7472\n",
      "Epoch 196/200\n",
      "268/268 [==============================] - 0s 766us/step - loss: 0.5211 - accuracy: 0.7480\n",
      "Epoch 197/200\n",
      "268/268 [==============================] - 0s 833us/step - loss: 0.5206 - accuracy: 0.7474\n",
      "Epoch 198/200\n",
      "268/268 [==============================] - 0s 752us/step - loss: 0.5214 - accuracy: 0.7476\n",
      "Epoch 199/200\n",
      "268/268 [==============================] - 0s 785us/step - loss: 0.5207 - accuracy: 0.7475\n",
      "Epoch 200/200\n",
      "268/268 [==============================] - 0s 791us/step - loss: 0.5206 - accuracy: 0.7475\n"
     ]
    },
    {
     "data": {
      "text/plain": [
       "<keras.callbacks.History at 0x7fcc802bff70>"
      ]
     },
     "execution_count": 34,
     "metadata": {},
     "output_type": "execute_result"
    }
   ],
   "source": [
    "# Train the model\n",
    "nn_2.fit(X_test_scaled_2, y_test_2, epochs=200)"
   ]
  },
  {
   "cell_type": "code",
   "execution_count": 36,
   "metadata": {},
   "outputs": [
    {
     "name": "stdout",
     "output_type": "stream",
     "text": [
      "268/268 - 0s - loss: 0.5186 - accuracy: 0.7481 - 141ms/epoch - 525us/step\n",
      "Loss: 0.51863694190979, Accuracy: 0.7481049299240112\n"
     ]
    }
   ],
   "source": [
    "# Evaluate the model using the test data\n",
    "model_loss_2, model_accuracy_2 = nn_2.evaluate(X_test_scaled_2,y_test_2,verbose=2)\n",
    "print(f\"Loss: {model_loss_2}, Accuracy: {model_accuracy_2}\")"
   ]
  },
  {
   "attachments": {},
   "cell_type": "markdown",
   "metadata": {},
   "source": [
    "As we can see our orignial model, without increasing the amount of values for the bins, performed better with the increased amount of apochs. The original model scored **0.7481** versus **0.7433** with the increased amount of values for each of the relevant bins."
   ]
  },
  {
   "attachments": {},
   "cell_type": "markdown",
   "metadata": {},
   "source": [
    "----"
   ]
  },
  {
   "attachments": {},
   "cell_type": "markdown",
   "metadata": {},
   "source": [
    "### (3) Optimising the model by increasing the amount of hidden layers and neurons"
   ]
  },
  {
   "cell_type": "code",
   "execution_count": 37,
   "metadata": {},
   "outputs": [
    {
     "data": {
      "text/html": [
       "<div>\n",
       "<style scoped>\n",
       "    .dataframe tbody tr th:only-of-type {\n",
       "        vertical-align: middle;\n",
       "    }\n",
       "\n",
       "    .dataframe tbody tr th {\n",
       "        vertical-align: top;\n",
       "    }\n",
       "\n",
       "    .dataframe thead th {\n",
       "        text-align: right;\n",
       "    }\n",
       "</style>\n",
       "<table border=\"1\" class=\"dataframe\">\n",
       "  <thead>\n",
       "    <tr style=\"text-align: right;\">\n",
       "      <th></th>\n",
       "      <th>EIN</th>\n",
       "      <th>NAME</th>\n",
       "      <th>APPLICATION_TYPE</th>\n",
       "      <th>AFFILIATION</th>\n",
       "      <th>CLASSIFICATION</th>\n",
       "      <th>USE_CASE</th>\n",
       "      <th>ORGANIZATION</th>\n",
       "      <th>STATUS</th>\n",
       "      <th>INCOME_AMT</th>\n",
       "      <th>SPECIAL_CONSIDERATIONS</th>\n",
       "      <th>ASK_AMT</th>\n",
       "      <th>IS_SUCCESSFUL</th>\n",
       "    </tr>\n",
       "  </thead>\n",
       "  <tbody>\n",
       "    <tr>\n",
       "      <th>0</th>\n",
       "      <td>10520599</td>\n",
       "      <td>BLUE KNIGHTS MOTORCYCLE CLUB</td>\n",
       "      <td>T10</td>\n",
       "      <td>Independent</td>\n",
       "      <td>C1000</td>\n",
       "      <td>ProductDev</td>\n",
       "      <td>Association</td>\n",
       "      <td>1</td>\n",
       "      <td>0</td>\n",
       "      <td>N</td>\n",
       "      <td>5000</td>\n",
       "      <td>1</td>\n",
       "    </tr>\n",
       "    <tr>\n",
       "      <th>1</th>\n",
       "      <td>10531628</td>\n",
       "      <td>AMERICAN CHESAPEAKE CLUB CHARITABLE TR</td>\n",
       "      <td>T3</td>\n",
       "      <td>Independent</td>\n",
       "      <td>C2000</td>\n",
       "      <td>Preservation</td>\n",
       "      <td>Co-operative</td>\n",
       "      <td>1</td>\n",
       "      <td>1-9999</td>\n",
       "      <td>N</td>\n",
       "      <td>108590</td>\n",
       "      <td>1</td>\n",
       "    </tr>\n",
       "    <tr>\n",
       "      <th>2</th>\n",
       "      <td>10547893</td>\n",
       "      <td>ST CLOUD PROFESSIONAL FIREFIGHTERS</td>\n",
       "      <td>T5</td>\n",
       "      <td>CompanySponsored</td>\n",
       "      <td>C3000</td>\n",
       "      <td>ProductDev</td>\n",
       "      <td>Association</td>\n",
       "      <td>1</td>\n",
       "      <td>0</td>\n",
       "      <td>N</td>\n",
       "      <td>5000</td>\n",
       "      <td>0</td>\n",
       "    </tr>\n",
       "    <tr>\n",
       "      <th>3</th>\n",
       "      <td>10553066</td>\n",
       "      <td>SOUTHSIDE ATHLETIC ASSOCIATION</td>\n",
       "      <td>T3</td>\n",
       "      <td>CompanySponsored</td>\n",
       "      <td>C2000</td>\n",
       "      <td>Preservation</td>\n",
       "      <td>Trust</td>\n",
       "      <td>1</td>\n",
       "      <td>10000-24999</td>\n",
       "      <td>N</td>\n",
       "      <td>6692</td>\n",
       "      <td>1</td>\n",
       "    </tr>\n",
       "    <tr>\n",
       "      <th>4</th>\n",
       "      <td>10556103</td>\n",
       "      <td>GENETIC RESEARCH INSTITUTE OF THE DESERT</td>\n",
       "      <td>T3</td>\n",
       "      <td>Independent</td>\n",
       "      <td>C1000</td>\n",
       "      <td>Heathcare</td>\n",
       "      <td>Trust</td>\n",
       "      <td>1</td>\n",
       "      <td>100000-499999</td>\n",
       "      <td>N</td>\n",
       "      <td>142590</td>\n",
       "      <td>1</td>\n",
       "    </tr>\n",
       "  </tbody>\n",
       "</table>\n",
       "</div>"
      ],
      "text/plain": [
       "        EIN                                      NAME APPLICATION_TYPE  \\\n",
       "0  10520599              BLUE KNIGHTS MOTORCYCLE CLUB              T10   \n",
       "1  10531628    AMERICAN CHESAPEAKE CLUB CHARITABLE TR               T3   \n",
       "2  10547893        ST CLOUD PROFESSIONAL FIREFIGHTERS               T5   \n",
       "3  10553066            SOUTHSIDE ATHLETIC ASSOCIATION               T3   \n",
       "4  10556103  GENETIC RESEARCH INSTITUTE OF THE DESERT               T3   \n",
       "\n",
       "        AFFILIATION CLASSIFICATION      USE_CASE  ORGANIZATION  STATUS  \\\n",
       "0       Independent          C1000    ProductDev   Association       1   \n",
       "1       Independent          C2000  Preservation  Co-operative       1   \n",
       "2  CompanySponsored          C3000    ProductDev   Association       1   \n",
       "3  CompanySponsored          C2000  Preservation         Trust       1   \n",
       "4       Independent          C1000     Heathcare         Trust       1   \n",
       "\n",
       "      INCOME_AMT SPECIAL_CONSIDERATIONS  ASK_AMT  IS_SUCCESSFUL  \n",
       "0              0                      N     5000              1  \n",
       "1         1-9999                      N   108590              1  \n",
       "2              0                      N     5000              0  \n",
       "3    10000-24999                      N     6692              1  \n",
       "4  100000-499999                      N   142590              1  "
      ]
     },
     "execution_count": 37,
     "metadata": {},
     "output_type": "execute_result"
    }
   ],
   "source": [
    "# Import our dependencies\n",
    "from sklearn.model_selection import train_test_split\n",
    "from sklearn.preprocessing import StandardScaler\n",
    "import pandas as pd\n",
    "import tensorflow as tf\n",
    "\n",
    "\n",
    "#  Import and read the charity_data.csv.\n",
    "import pandas as pd \n",
    "application_df_3 = pd.read_csv(\"https://static.bc-edx.com/data/dla-1-2/m21/lms/starter/charity_data.csv\")\n",
    "application_df_3.head()"
   ]
  },
  {
   "cell_type": "code",
   "execution_count": 38,
   "metadata": {},
   "outputs": [],
   "source": [
    "# Drop the non-beneficial ID columns, 'EIN' and 'NAME'.\n",
    "application_df_3.drop(columns=['EIN', 'NAME'], axis=1, inplace=True)"
   ]
  },
  {
   "cell_type": "code",
   "execution_count": 39,
   "metadata": {},
   "outputs": [
    {
     "data": {
      "text/plain": [
       "APPLICATION_TYPE            17\n",
       "AFFILIATION                  6\n",
       "CLASSIFICATION              71\n",
       "USE_CASE                     5\n",
       "ORGANIZATION                 4\n",
       "STATUS                       2\n",
       "INCOME_AMT                   9\n",
       "SPECIAL_CONSIDERATIONS       2\n",
       "ASK_AMT                   8747\n",
       "IS_SUCCESSFUL                2\n",
       "dtype: int64"
      ]
     },
     "execution_count": 39,
     "metadata": {},
     "output_type": "execute_result"
    }
   ],
   "source": [
    "# Determine the number of unique values in each column.\n",
    "application_df_3.nunique()"
   ]
  },
  {
   "cell_type": "code",
   "execution_count": 40,
   "metadata": {},
   "outputs": [
    {
     "data": {
      "text/plain": [
       "T3     27037\n",
       "T4      1542\n",
       "T6      1216\n",
       "T5      1173\n",
       "T19     1065\n",
       "T8       737\n",
       "T7       725\n",
       "T10      528\n",
       "T9       156\n",
       "T13       66\n",
       "T12       27\n",
       "T2        16\n",
       "T25        3\n",
       "T14        3\n",
       "T29        2\n",
       "T15        2\n",
       "T17        1\n",
       "Name: APPLICATION_TYPE, dtype: int64"
      ]
     },
     "execution_count": 40,
     "metadata": {},
     "output_type": "execute_result"
    }
   ],
   "source": [
    "# Look at APPLICATION_TYPE value counts for binning\n",
    "application_df_3['APPLICATION_TYPE'].value_counts()"
   ]
  },
  {
   "cell_type": "code",
   "execution_count": 41,
   "metadata": {},
   "outputs": [
    {
     "data": {
      "text/plain": [
       "T3       27037\n",
       "T4        1542\n",
       "T6        1216\n",
       "T5        1173\n",
       "T19       1065\n",
       "T8         737\n",
       "T7         725\n",
       "T10        528\n",
       "Other      276\n",
       "Name: APPLICATION_TYPE, dtype: int64"
      ]
     },
     "execution_count": 41,
     "metadata": {},
     "output_type": "execute_result"
    }
   ],
   "source": [
    "# Choose a cutoff value and create a list of application types to be replaced\n",
    "# use the variable name `application_types_to_replace`\n",
    "application_types_to_replace_3 = list(application_df_3['APPLICATION_TYPE'].value_counts().index[8:])\n",
    "\n",
    "# Replace in dataframe\n",
    "for app in application_types_to_replace_3:\n",
    "    application_df_3['APPLICATION_TYPE'] = application_df_3['APPLICATION_TYPE'].replace(app,\"Other\")\n",
    "\n",
    "# Check to make sure binning was successful\n",
    "application_df_3['APPLICATION_TYPE'].value_counts()"
   ]
  },
  {
   "cell_type": "code",
   "execution_count": 42,
   "metadata": {},
   "outputs": [
    {
     "data": {
      "text/plain": [
       "C1000    17326\n",
       "C2000     6074\n",
       "C1200     4837\n",
       "C3000     1918\n",
       "C2100     1883\n",
       "         ...  \n",
       "C4120        1\n",
       "C8210        1\n",
       "C2561        1\n",
       "C4500        1\n",
       "C2150        1\n",
       "Name: CLASSIFICATION, Length: 71, dtype: int64"
      ]
     },
     "execution_count": 42,
     "metadata": {},
     "output_type": "execute_result"
    }
   ],
   "source": [
    "# Look at CLASSIFICATION value counts for binning\n",
    "application_df_3['CLASSIFICATION'].value_counts()"
   ]
  },
  {
   "cell_type": "code",
   "execution_count": 43,
   "metadata": {},
   "outputs": [
    {
     "data": {
      "text/plain": [
       "C1000    17326\n",
       "C2000     6074\n",
       "C1200     4837\n",
       "C3000     1918\n",
       "C2100     1883\n",
       "C7000      777\n",
       "C1700      287\n",
       "C4000      194\n",
       "C5000      116\n",
       "C1270      114\n",
       "C2700      104\n",
       "C2800       95\n",
       "C7100       75\n",
       "C1300       58\n",
       "C1280       50\n",
       "C1230       36\n",
       "C1400       34\n",
       "C7200       32\n",
       "C2300       32\n",
       "C1240       30\n",
       "C8000       20\n",
       "C7120       18\n",
       "C1500       16\n",
       "C1800       15\n",
       "C6000       15\n",
       "C1250       14\n",
       "C8200       11\n",
       "C1238       10\n",
       "C1278       10\n",
       "C1235        9\n",
       "C1237        9\n",
       "C7210        7\n",
       "C2400        6\n",
       "C1720        6\n",
       "C4100        6\n",
       "C1257        5\n",
       "C1600        5\n",
       "C1260        3\n",
       "C2710        3\n",
       "C0           3\n",
       "C3200        2\n",
       "C1234        2\n",
       "C1246        2\n",
       "C1267        2\n",
       "C1256        2\n",
       "Name: CLASSIFICATION, dtype: int64"
      ]
     },
     "execution_count": 43,
     "metadata": {},
     "output_type": "execute_result"
    }
   ],
   "source": [
    "# You may find it helpful to look at CLASSIFICATION value counts >1\n",
    "application_df_3['CLASSIFICATION'].value_counts().loc[application_df_3['CLASSIFICATION'].value_counts() > 1]"
   ]
  },
  {
   "cell_type": "code",
   "execution_count": 44,
   "metadata": {},
   "outputs": [
    {
     "data": {
      "text/plain": [
       "C1000    17326\n",
       "C2000     6074\n",
       "C1200     4837\n",
       "Other     2261\n",
       "C3000     1918\n",
       "C2100     1883\n",
       "Name: CLASSIFICATION, dtype: int64"
      ]
     },
     "execution_count": 44,
     "metadata": {},
     "output_type": "execute_result"
    }
   ],
   "source": [
    "# Choose a cutoff value and create a list of classifications to be replaced\n",
    "# use the variable name `classifications_to_replace`\n",
    "classifications_to_replace_3 = list(application_df_3['CLASSIFICATION'].value_counts().index[5:])\n",
    "\n",
    "# Replace in dataframe\n",
    "for cls in classifications_to_replace_3:\n",
    "    application_df_3['CLASSIFICATION'] = application_df_3['CLASSIFICATION'].replace(cls,\"Other\")\n",
    "    \n",
    "# Check to make sure binning was successful\n",
    "application_df_3['CLASSIFICATION'].value_counts()"
   ]
  },
  {
   "cell_type": "code",
   "execution_count": 45,
   "metadata": {},
   "outputs": [],
   "source": [
    "# Convert categorical data to numeric with `pd.get_dummies`\n",
    "dummy_df_3 = pd.get_dummies(application_df_3)"
   ]
  },
  {
   "cell_type": "code",
   "execution_count": 46,
   "metadata": {},
   "outputs": [],
   "source": [
    "# Split our preprocessed data into our features and target arrays\n",
    "X_3 = dummy_df_3.drop(columns='IS_SUCCESSFUL', axis=1)\n",
    "y_3 = dummy_df_3['IS_SUCCESSFUL']\n",
    "\n",
    "# Split the preprocessed data into a training and testing dataset\n",
    "X_train_3, X_test_3, y_train_3, y_test_3 = train_test_split(X_3, y_3, random_state=1)"
   ]
  },
  {
   "cell_type": "code",
   "execution_count": 47,
   "metadata": {},
   "outputs": [],
   "source": [
    "# Create a StandardScaler instances\n",
    "scaler_3 = StandardScaler()\n",
    "\n",
    "# Fit the StandardScaler\n",
    "X_scaler_3 = scaler_3.fit(X_train_3)\n",
    "\n",
    "# Scale the data\n",
    "X_train_scaled_3 = X_scaler_3.transform(X_train_3)\n",
    "X_test_scaled_3 = X_scaler_3.transform(X_test_3)"
   ]
  },
  {
   "cell_type": "code",
   "execution_count": 48,
   "metadata": {},
   "outputs": [
    {
     "data": {
      "text/plain": [
       "(25724, 43)"
      ]
     },
     "execution_count": 48,
     "metadata": {},
     "output_type": "execute_result"
    }
   ],
   "source": [
    "X_train_scaled_3.shape"
   ]
  },
  {
   "cell_type": "code",
   "execution_count": 49,
   "metadata": {},
   "outputs": [
    {
     "name": "stdout",
     "output_type": "stream",
     "text": [
      "Model: \"sequential_2\"\n",
      "_________________________________________________________________\n",
      " Layer (type)                Output Shape              Param #   \n",
      "=================================================================\n",
      " dense_6 (Dense)             (None, 100)               4400      \n",
      "                                                                 \n",
      " dense_7 (Dense)             (None, 40)                4040      \n",
      "                                                                 \n",
      " dense_8 (Dense)             (None, 10)                410       \n",
      "                                                                 \n",
      " dense_9 (Dense)             (None, 3)                 33        \n",
      "                                                                 \n",
      " dense_10 (Dense)            (None, 1)                 4         \n",
      "                                                                 \n",
      "=================================================================\n",
      "Total params: 8,887\n",
      "Trainable params: 8,887\n",
      "Non-trainable params: 0\n",
      "_________________________________________________________________\n"
     ]
    }
   ],
   "source": [
    "# Define the model - deep neural net, i.e., the number of input features and hidden nodes for each layer.\n",
    "model_3_hidden_layer_1 = 100\n",
    "model_3_hidden_layer_2 = 40\n",
    "model_3_hidden_layer_3 = 10\n",
    "model_3_hidden_layer_4 = 3\n",
    "\n",
    "model_3_output_layer = 1 \n",
    "\n",
    "\n",
    "nn_3 = tf.keras.models.Sequential()\n",
    "\n",
    "# First hidden layer\n",
    "nn_3.add(tf.keras.layers.Dense(units=model_3_hidden_layer_1, activation='relu',input_dim=len(X_3.columns)))\n",
    "\n",
    "# Second hidden layer\n",
    "nn_3.add(tf.keras.layers.Dense(units=model_3_hidden_layer_2, activation='tanh'))\n",
    "\n",
    "# Third hidden layer\n",
    "nn_3.add(tf.keras.layers.Dense(units=model_3_hidden_layer_3, activation='leaky_relu'))\n",
    "\n",
    "# Forth hidden layer\n",
    "nn_3.add(tf.keras.layers.Dense(units=model_3_hidden_layer_4, activation='leaky_relu'))\n",
    "\n",
    "# Output layer\n",
    "nn_3.add(tf.keras.layers.Dense(units=model_3_output_layer, activation='sigmoid'))\n",
    "\n",
    "# Check the structure of the model\n",
    "nn_3.summary()"
   ]
  },
  {
   "cell_type": "code",
   "execution_count": 50,
   "metadata": {},
   "outputs": [],
   "source": [
    "# Compile the model\n",
    "nn_3.compile(loss='binary_crossentropy', optimizer='adam', metrics=['accuracy'])\n",
    "\n",
    "# Define a callback to save the model's weights every five epochs\n",
    "checkpoint_filepath_3 = 'model_weights.h5'\n",
    "model_checkpoint_callback_3 = tf.keras.callbacks.ModelCheckpoint(\n",
    "    filepath=checkpoint_filepath_3,\n",
    "    save_weights_only=True,\n",
    "    save_freq = 5 * len(X_train_scaled_3) // 32)  # Save every five epochs"
   ]
  },
  {
   "cell_type": "code",
   "execution_count": 51,
   "metadata": {},
   "outputs": [
    {
     "name": "stdout",
     "output_type": "stream",
     "text": [
      "Epoch 1/100\n",
      "268/268 [==============================] - 1s 875us/step - loss: 0.6024 - accuracy: 0.7102\n",
      "Epoch 2/100\n",
      "268/268 [==============================] - 0s 873us/step - loss: 0.5646 - accuracy: 0.7286\n",
      "Epoch 3/100\n",
      "268/268 [==============================] - 0s 886us/step - loss: 0.5569 - accuracy: 0.7296\n",
      "Epoch 4/100\n",
      "268/268 [==============================] - 0s 1000us/step - loss: 0.5540 - accuracy: 0.7300\n",
      "Epoch 5/100\n",
      "268/268 [==============================] - 0s 894us/step - loss: 0.5510 - accuracy: 0.7332\n",
      "Epoch 6/100\n",
      "268/268 [==============================] - 0s 873us/step - loss: 0.5499 - accuracy: 0.7326\n",
      "Epoch 7/100\n",
      "268/268 [==============================] - 0s 872us/step - loss: 0.5480 - accuracy: 0.7342\n",
      "Epoch 8/100\n",
      "268/268 [==============================] - 0s 972us/step - loss: 0.5476 - accuracy: 0.7347\n",
      "Epoch 9/100\n",
      "268/268 [==============================] - 0s 897us/step - loss: 0.5457 - accuracy: 0.7336\n",
      "Epoch 10/100\n",
      "268/268 [==============================] - 0s 897us/step - loss: 0.5453 - accuracy: 0.7359\n",
      "Epoch 11/100\n",
      "268/268 [==============================] - 0s 929us/step - loss: 0.5451 - accuracy: 0.7377\n",
      "Epoch 12/100\n",
      "268/268 [==============================] - 0s 896us/step - loss: 0.5433 - accuracy: 0.7367\n",
      "Epoch 13/100\n",
      "268/268 [==============================] - 0s 1ms/step - loss: 0.5427 - accuracy: 0.7381\n",
      "Epoch 14/100\n",
      "268/268 [==============================] - 0s 968us/step - loss: 0.5426 - accuracy: 0.7368\n",
      "Epoch 15/100\n",
      "268/268 [==============================] - 0s 907us/step - loss: 0.5413 - accuracy: 0.7399\n",
      "Epoch 16/100\n",
      "268/268 [==============================] - 0s 954us/step - loss: 0.5401 - accuracy: 0.7391\n",
      "Epoch 17/100\n",
      "268/268 [==============================] - 0s 912us/step - loss: 0.5405 - accuracy: 0.7405\n",
      "Epoch 18/100\n",
      "268/268 [==============================] - 0s 965us/step - loss: 0.5402 - accuracy: 0.7396\n",
      "Epoch 19/100\n",
      "268/268 [==============================] - 0s 921us/step - loss: 0.5386 - accuracy: 0.7388\n",
      "Epoch 20/100\n",
      "268/268 [==============================] - 0s 918us/step - loss: 0.5392 - accuracy: 0.7408\n",
      "Epoch 21/100\n",
      "268/268 [==============================] - 0s 881us/step - loss: 0.5384 - accuracy: 0.7389\n",
      "Epoch 22/100\n",
      "268/268 [==============================] - 0s 922us/step - loss: 0.5382 - accuracy: 0.7411\n",
      "Epoch 23/100\n",
      "268/268 [==============================] - 0s 1ms/step - loss: 0.5371 - accuracy: 0.7415\n",
      "Epoch 24/100\n",
      "268/268 [==============================] - 0s 909us/step - loss: 0.5369 - accuracy: 0.7403\n",
      "Epoch 25/100\n",
      "268/268 [==============================] - 0s 939us/step - loss: 0.5362 - accuracy: 0.7419\n",
      "Epoch 26/100\n",
      "268/268 [==============================] - 0s 929us/step - loss: 0.5362 - accuracy: 0.7398\n",
      "Epoch 27/100\n",
      "268/268 [==============================] - 0s 919us/step - loss: 0.5352 - accuracy: 0.7424\n",
      "Epoch 28/100\n",
      "268/268 [==============================] - 0s 1ms/step - loss: 0.5349 - accuracy: 0.7410\n",
      "Epoch 29/100\n",
      "268/268 [==============================] - 0s 952us/step - loss: 0.5354 - accuracy: 0.7418\n",
      "Epoch 30/100\n",
      "268/268 [==============================] - 0s 917us/step - loss: 0.5349 - accuracy: 0.7408\n",
      "Epoch 31/100\n",
      "268/268 [==============================] - 0s 938us/step - loss: 0.5341 - accuracy: 0.7406\n",
      "Epoch 32/100\n",
      "268/268 [==============================] - 0s 911us/step - loss: 0.5333 - accuracy: 0.7426\n",
      "Epoch 33/100\n",
      "268/268 [==============================] - 0s 992us/step - loss: 0.5337 - accuracy: 0.7416\n",
      "Epoch 34/100\n",
      "268/268 [==============================] - 0s 903us/step - loss: 0.5335 - accuracy: 0.7431\n",
      "Epoch 35/100\n",
      "268/268 [==============================] - 0s 938us/step - loss: 0.5330 - accuracy: 0.7427\n",
      "Epoch 36/100\n",
      "268/268 [==============================] - 0s 910us/step - loss: 0.5325 - accuracy: 0.7425\n",
      "Epoch 37/100\n",
      "268/268 [==============================] - 0s 932us/step - loss: 0.5334 - accuracy: 0.7433\n",
      "Epoch 38/100\n",
      "268/268 [==============================] - 0s 1ms/step - loss: 0.5325 - accuracy: 0.7427\n",
      "Epoch 39/100\n",
      "268/268 [==============================] - 0s 914us/step - loss: 0.5312 - accuracy: 0.7437\n",
      "Epoch 40/100\n",
      "268/268 [==============================] - 0s 897us/step - loss: 0.5322 - accuracy: 0.7436\n",
      "Epoch 41/100\n",
      "268/268 [==============================] - 0s 916us/step - loss: 0.5318 - accuracy: 0.7450\n",
      "Epoch 42/100\n",
      "268/268 [==============================] - 0s 965us/step - loss: 0.5318 - accuracy: 0.7422\n",
      "Epoch 43/100\n",
      "268/268 [==============================] - 0s 935us/step - loss: 0.5306 - accuracy: 0.7434\n",
      "Epoch 44/100\n",
      "268/268 [==============================] - 0s 959us/step - loss: 0.5311 - accuracy: 0.7437\n",
      "Epoch 45/100\n",
      "268/268 [==============================] - 0s 918us/step - loss: 0.5301 - accuracy: 0.7438\n",
      "Epoch 46/100\n",
      "268/268 [==============================] - 0s 902us/step - loss: 0.5306 - accuracy: 0.7431\n",
      "Epoch 47/100\n",
      "268/268 [==============================] - 0s 952us/step - loss: 0.5305 - accuracy: 0.7451\n",
      "Epoch 48/100\n",
      "268/268 [==============================] - 0s 924us/step - loss: 0.5299 - accuracy: 0.7445\n",
      "Epoch 49/100\n",
      "268/268 [==============================] - 0s 897us/step - loss: 0.5298 - accuracy: 0.7448\n",
      "Epoch 50/100\n",
      "268/268 [==============================] - 0s 883us/step - loss: 0.5293 - accuracy: 0.7440\n",
      "Epoch 51/100\n",
      "268/268 [==============================] - 0s 893us/step - loss: 0.5301 - accuracy: 0.7445\n",
      "Epoch 52/100\n",
      "268/268 [==============================] - 0s 1ms/step - loss: 0.5291 - accuracy: 0.7453\n",
      "Epoch 53/100\n",
      "268/268 [==============================] - 0s 920us/step - loss: 0.5292 - accuracy: 0.7441\n",
      "Epoch 54/100\n",
      "268/268 [==============================] - 0s 921us/step - loss: 0.5290 - accuracy: 0.7436\n",
      "Epoch 55/100\n",
      "268/268 [==============================] - 0s 944us/step - loss: 0.5280 - accuracy: 0.7445\n",
      "Epoch 56/100\n",
      "268/268 [==============================] - 0s 905us/step - loss: 0.5284 - accuracy: 0.7436\n",
      "Epoch 57/100\n",
      "268/268 [==============================] - 0s 978us/step - loss: 0.5290 - accuracy: 0.7436\n",
      "Epoch 58/100\n",
      "268/268 [==============================] - 0s 890us/step - loss: 0.5279 - accuracy: 0.7444\n",
      "Epoch 59/100\n",
      "268/268 [==============================] - 0s 902us/step - loss: 0.5284 - accuracy: 0.7450\n",
      "Epoch 60/100\n",
      "268/268 [==============================] - 0s 927us/step - loss: 0.5271 - accuracy: 0.7437\n",
      "Epoch 61/100\n",
      "268/268 [==============================] - 0s 923us/step - loss: 0.5280 - accuracy: 0.7437\n",
      "Epoch 62/100\n",
      "268/268 [==============================] - 0s 1ms/step - loss: 0.5273 - accuracy: 0.7439\n",
      "Epoch 63/100\n",
      "268/268 [==============================] - 0s 914us/step - loss: 0.5275 - accuracy: 0.7440\n",
      "Epoch 64/100\n",
      "268/268 [==============================] - 0s 901us/step - loss: 0.5278 - accuracy: 0.7443\n",
      "Epoch 65/100\n",
      "268/268 [==============================] - 0s 893us/step - loss: 0.5263 - accuracy: 0.7450\n",
      "Epoch 66/100\n",
      "268/268 [==============================] - 0s 881us/step - loss: 0.5266 - accuracy: 0.7448\n",
      "Epoch 67/100\n",
      "268/268 [==============================] - 0s 941us/step - loss: 0.5263 - accuracy: 0.7444\n",
      "Epoch 68/100\n",
      "268/268 [==============================] - 0s 885us/step - loss: 0.5269 - accuracy: 0.7437\n",
      "Epoch 69/100\n",
      "268/268 [==============================] - 0s 900us/step - loss: 0.5261 - accuracy: 0.7448\n",
      "Epoch 70/100\n",
      "268/268 [==============================] - 0s 892us/step - loss: 0.5266 - accuracy: 0.7444\n",
      "Epoch 71/100\n",
      "268/268 [==============================] - 0s 893us/step - loss: 0.5263 - accuracy: 0.7455\n",
      "Epoch 72/100\n",
      "268/268 [==============================] - 0s 910us/step - loss: 0.5264 - accuracy: 0.7452\n",
      "Epoch 73/100\n",
      "268/268 [==============================] - 0s 957us/step - loss: 0.5255 - accuracy: 0.7447\n",
      "Epoch 74/100\n",
      "268/268 [==============================] - 0s 922us/step - loss: 0.5260 - accuracy: 0.7451\n",
      "Epoch 75/100\n",
      "268/268 [==============================] - 0s 900us/step - loss: 0.5257 - accuracy: 0.7440\n",
      "Epoch 76/100\n",
      "268/268 [==============================] - 0s 980us/step - loss: 0.5254 - accuracy: 0.7447\n",
      "Epoch 77/100\n",
      "268/268 [==============================] - 0s 977us/step - loss: 0.5253 - accuracy: 0.7467\n",
      "Epoch 78/100\n",
      "268/268 [==============================] - 0s 937us/step - loss: 0.5248 - accuracy: 0.7452\n",
      "Epoch 79/100\n",
      "268/268 [==============================] - 0s 904us/step - loss: 0.5256 - accuracy: 0.7447\n",
      "Epoch 80/100\n",
      "268/268 [==============================] - 0s 899us/step - loss: 0.5246 - accuracy: 0.7452\n",
      "Epoch 81/100\n",
      "268/268 [==============================] - 0s 894us/step - loss: 0.5248 - accuracy: 0.7458\n",
      "Epoch 82/100\n",
      "268/268 [==============================] - 0s 961us/step - loss: 0.5245 - accuracy: 0.7458\n",
      "Epoch 83/100\n",
      "268/268 [==============================] - 0s 876us/step - loss: 0.5242 - accuracy: 0.7465\n",
      "Epoch 84/100\n",
      "268/268 [==============================] - 0s 894us/step - loss: 0.5239 - accuracy: 0.7452\n",
      "Epoch 85/100\n",
      "268/268 [==============================] - 0s 906us/step - loss: 0.5241 - accuracy: 0.7458\n",
      "Epoch 86/100\n",
      "268/268 [==============================] - 0s 907us/step - loss: 0.5246 - accuracy: 0.7458\n",
      "Epoch 87/100\n",
      "268/268 [==============================] - 0s 952us/step - loss: 0.5250 - accuracy: 0.7468\n",
      "Epoch 88/100\n",
      "268/268 [==============================] - 0s 882us/step - loss: 0.5241 - accuracy: 0.7464\n",
      "Epoch 89/100\n",
      "268/268 [==============================] - 0s 894us/step - loss: 0.5250 - accuracy: 0.7454\n",
      "Epoch 90/100\n",
      "268/268 [==============================] - 0s 895us/step - loss: 0.5242 - accuracy: 0.7453\n",
      "Epoch 91/100\n",
      "268/268 [==============================] - 0s 874us/step - loss: 0.5238 - accuracy: 0.7464\n",
      "Epoch 92/100\n",
      "268/268 [==============================] - 0s 932us/step - loss: 0.5238 - accuracy: 0.7458\n",
      "Epoch 93/100\n",
      "268/268 [==============================] - 0s 890us/step - loss: 0.5242 - accuracy: 0.7461\n",
      "Epoch 94/100\n",
      "268/268 [==============================] - 0s 906us/step - loss: 0.5237 - accuracy: 0.7458\n",
      "Epoch 95/100\n",
      "268/268 [==============================] - 0s 881us/step - loss: 0.5238 - accuracy: 0.7455\n",
      "Epoch 96/100\n",
      "268/268 [==============================] - 0s 902us/step - loss: 0.5233 - accuracy: 0.7453\n",
      "Epoch 97/100\n",
      "268/268 [==============================] - 0s 934us/step - loss: 0.5229 - accuracy: 0.7447\n",
      "Epoch 98/100\n",
      "268/268 [==============================] - 0s 876us/step - loss: 0.5235 - accuracy: 0.7467\n",
      "Epoch 99/100\n",
      "268/268 [==============================] - 0s 874us/step - loss: 0.5232 - accuracy: 0.7464\n",
      "Epoch 100/100\n",
      "268/268 [==============================] - 0s 879us/step - loss: 0.5233 - accuracy: 0.7460\n"
     ]
    },
    {
     "data": {
      "text/plain": [
       "<keras.callbacks.History at 0x7fccc07b33d0>"
      ]
     },
     "execution_count": 51,
     "metadata": {},
     "output_type": "execute_result"
    }
   ],
   "source": [
    "# Train the model\n",
    "nn_3.fit(X_test_scaled_3, y_test_3, epochs=100)"
   ]
  },
  {
   "cell_type": "code",
   "execution_count": 52,
   "metadata": {},
   "outputs": [
    {
     "name": "stdout",
     "output_type": "stream",
     "text": [
      "268/268 - 0s - loss: 0.5208 - accuracy: 0.7471 - 229ms/epoch - 856us/step\n",
      "Loss: 0.5208185911178589, Accuracy: 0.7470554113388062\n"
     ]
    }
   ],
   "source": [
    "# Evaluate the model using the test data\n",
    "model_loss_3, model_accuracy_3 = nn_3.evaluate(X_test_scaled_3,y_test_3,verbose=2)\n",
    "print(f\"Loss: {model_loss_3}, Accuracy: {model_accuracy_3}\")"
   ]
  },
  {
   "attachments": {},
   "cell_type": "markdown",
   "metadata": {},
   "source": [
    "Interestingly, even with an increased number of hidden layers, the accuracy score of the model didn't improve. The original model, with an increased number of epochs, scored slightly better with **0.7481** compared to **0.7470** for the model with the increased number of hidden layers. This could potentially be explained by the fact that increasing the number of hidden layers in our model also increases the complexity of the model.\n",
    "\n",
    "----"
   ]
  },
  {
   "attachments": {},
   "cell_type": "markdown",
   "metadata": {},
   "source": [
    "### (4) Optimising the model by using different activation functions"
   ]
  },
  {
   "cell_type": "code",
   "execution_count": 53,
   "metadata": {},
   "outputs": [
    {
     "name": "stdout",
     "output_type": "stream",
     "text": [
      "Using TensorFlow backend\n"
     ]
    },
    {
     "data": {
      "text/html": [
       "<div>\n",
       "<style scoped>\n",
       "    .dataframe tbody tr th:only-of-type {\n",
       "        vertical-align: middle;\n",
       "    }\n",
       "\n",
       "    .dataframe tbody tr th {\n",
       "        vertical-align: top;\n",
       "    }\n",
       "\n",
       "    .dataframe thead th {\n",
       "        text-align: right;\n",
       "    }\n",
       "</style>\n",
       "<table border=\"1\" class=\"dataframe\">\n",
       "  <thead>\n",
       "    <tr style=\"text-align: right;\">\n",
       "      <th></th>\n",
       "      <th>EIN</th>\n",
       "      <th>NAME</th>\n",
       "      <th>APPLICATION_TYPE</th>\n",
       "      <th>AFFILIATION</th>\n",
       "      <th>CLASSIFICATION</th>\n",
       "      <th>USE_CASE</th>\n",
       "      <th>ORGANIZATION</th>\n",
       "      <th>STATUS</th>\n",
       "      <th>INCOME_AMT</th>\n",
       "      <th>SPECIAL_CONSIDERATIONS</th>\n",
       "      <th>ASK_AMT</th>\n",
       "      <th>IS_SUCCESSFUL</th>\n",
       "    </tr>\n",
       "  </thead>\n",
       "  <tbody>\n",
       "    <tr>\n",
       "      <th>0</th>\n",
       "      <td>10520599</td>\n",
       "      <td>BLUE KNIGHTS MOTORCYCLE CLUB</td>\n",
       "      <td>T10</td>\n",
       "      <td>Independent</td>\n",
       "      <td>C1000</td>\n",
       "      <td>ProductDev</td>\n",
       "      <td>Association</td>\n",
       "      <td>1</td>\n",
       "      <td>0</td>\n",
       "      <td>N</td>\n",
       "      <td>5000</td>\n",
       "      <td>1</td>\n",
       "    </tr>\n",
       "    <tr>\n",
       "      <th>1</th>\n",
       "      <td>10531628</td>\n",
       "      <td>AMERICAN CHESAPEAKE CLUB CHARITABLE TR</td>\n",
       "      <td>T3</td>\n",
       "      <td>Independent</td>\n",
       "      <td>C2000</td>\n",
       "      <td>Preservation</td>\n",
       "      <td>Co-operative</td>\n",
       "      <td>1</td>\n",
       "      <td>1-9999</td>\n",
       "      <td>N</td>\n",
       "      <td>108590</td>\n",
       "      <td>1</td>\n",
       "    </tr>\n",
       "    <tr>\n",
       "      <th>2</th>\n",
       "      <td>10547893</td>\n",
       "      <td>ST CLOUD PROFESSIONAL FIREFIGHTERS</td>\n",
       "      <td>T5</td>\n",
       "      <td>CompanySponsored</td>\n",
       "      <td>C3000</td>\n",
       "      <td>ProductDev</td>\n",
       "      <td>Association</td>\n",
       "      <td>1</td>\n",
       "      <td>0</td>\n",
       "      <td>N</td>\n",
       "      <td>5000</td>\n",
       "      <td>0</td>\n",
       "    </tr>\n",
       "    <tr>\n",
       "      <th>3</th>\n",
       "      <td>10553066</td>\n",
       "      <td>SOUTHSIDE ATHLETIC ASSOCIATION</td>\n",
       "      <td>T3</td>\n",
       "      <td>CompanySponsored</td>\n",
       "      <td>C2000</td>\n",
       "      <td>Preservation</td>\n",
       "      <td>Trust</td>\n",
       "      <td>1</td>\n",
       "      <td>10000-24999</td>\n",
       "      <td>N</td>\n",
       "      <td>6692</td>\n",
       "      <td>1</td>\n",
       "    </tr>\n",
       "    <tr>\n",
       "      <th>4</th>\n",
       "      <td>10556103</td>\n",
       "      <td>GENETIC RESEARCH INSTITUTE OF THE DESERT</td>\n",
       "      <td>T3</td>\n",
       "      <td>Independent</td>\n",
       "      <td>C1000</td>\n",
       "      <td>Heathcare</td>\n",
       "      <td>Trust</td>\n",
       "      <td>1</td>\n",
       "      <td>100000-499999</td>\n",
       "      <td>N</td>\n",
       "      <td>142590</td>\n",
       "      <td>1</td>\n",
       "    </tr>\n",
       "  </tbody>\n",
       "</table>\n",
       "</div>"
      ],
      "text/plain": [
       "        EIN                                      NAME APPLICATION_TYPE  \\\n",
       "0  10520599              BLUE KNIGHTS MOTORCYCLE CLUB              T10   \n",
       "1  10531628    AMERICAN CHESAPEAKE CLUB CHARITABLE TR               T3   \n",
       "2  10547893        ST CLOUD PROFESSIONAL FIREFIGHTERS               T5   \n",
       "3  10553066            SOUTHSIDE ATHLETIC ASSOCIATION               T3   \n",
       "4  10556103  GENETIC RESEARCH INSTITUTE OF THE DESERT               T3   \n",
       "\n",
       "        AFFILIATION CLASSIFICATION      USE_CASE  ORGANIZATION  STATUS  \\\n",
       "0       Independent          C1000    ProductDev   Association       1   \n",
       "1       Independent          C2000  Preservation  Co-operative       1   \n",
       "2  CompanySponsored          C3000    ProductDev   Association       1   \n",
       "3  CompanySponsored          C2000  Preservation         Trust       1   \n",
       "4       Independent          C1000     Heathcare         Trust       1   \n",
       "\n",
       "      INCOME_AMT SPECIAL_CONSIDERATIONS  ASK_AMT  IS_SUCCESSFUL  \n",
       "0              0                      N     5000              1  \n",
       "1         1-9999                      N   108590              1  \n",
       "2              0                      N     5000              0  \n",
       "3    10000-24999                      N     6692              1  \n",
       "4  100000-499999                      N   142590              1  "
      ]
     },
     "execution_count": 53,
     "metadata": {},
     "output_type": "execute_result"
    }
   ],
   "source": [
    "# Import our dependencies\n",
    "from sklearn.model_selection import train_test_split\n",
    "from sklearn.preprocessing import StandardScaler\n",
    "import pandas as pd\n",
    "import tensorflow as tf\n",
    "import keras_tuner as kt\n",
    "\n",
    "\n",
    "#  Import and read the charity_data.csv.\n",
    "import pandas as pd \n",
    "application_df_4 = pd.read_csv(\"https://static.bc-edx.com/data/dla-1-2/m21/lms/starter/charity_data.csv\")\n",
    "application_df_4.head()"
   ]
  },
  {
   "cell_type": "code",
   "execution_count": 54,
   "metadata": {},
   "outputs": [],
   "source": [
    "# Drop the non-beneficial ID columns, 'EIN' and 'NAME'.\n",
    "application_df_4.drop(columns=['EIN', 'NAME'], axis=1, inplace=True)"
   ]
  },
  {
   "cell_type": "code",
   "execution_count": 55,
   "metadata": {},
   "outputs": [
    {
     "data": {
      "text/plain": [
       "APPLICATION_TYPE            17\n",
       "AFFILIATION                  6\n",
       "CLASSIFICATION              71\n",
       "USE_CASE                     5\n",
       "ORGANIZATION                 4\n",
       "STATUS                       2\n",
       "INCOME_AMT                   9\n",
       "SPECIAL_CONSIDERATIONS       2\n",
       "ASK_AMT                   8747\n",
       "IS_SUCCESSFUL                2\n",
       "dtype: int64"
      ]
     },
     "execution_count": 55,
     "metadata": {},
     "output_type": "execute_result"
    }
   ],
   "source": [
    "# Determine the number of unique values in each column.\n",
    "application_df_4.nunique()"
   ]
  },
  {
   "cell_type": "code",
   "execution_count": 56,
   "metadata": {},
   "outputs": [
    {
     "data": {
      "text/plain": [
       "T3     27037\n",
       "T4      1542\n",
       "T6      1216\n",
       "T5      1173\n",
       "T19     1065\n",
       "T8       737\n",
       "T7       725\n",
       "T10      528\n",
       "T9       156\n",
       "T13       66\n",
       "T12       27\n",
       "T2        16\n",
       "T25        3\n",
       "T14        3\n",
       "T29        2\n",
       "T15        2\n",
       "T17        1\n",
       "Name: APPLICATION_TYPE, dtype: int64"
      ]
     },
     "execution_count": 56,
     "metadata": {},
     "output_type": "execute_result"
    }
   ],
   "source": [
    "# Look at APPLICATION_TYPE value counts for binning\n",
    "application_df_4['APPLICATION_TYPE'].value_counts()"
   ]
  },
  {
   "cell_type": "code",
   "execution_count": 57,
   "metadata": {},
   "outputs": [
    {
     "data": {
      "text/plain": [
       "T3       27037\n",
       "T4        1542\n",
       "T6        1216\n",
       "T5        1173\n",
       "T19       1065\n",
       "T8         737\n",
       "T7         725\n",
       "T10        528\n",
       "Other      276\n",
       "Name: APPLICATION_TYPE, dtype: int64"
      ]
     },
     "execution_count": 57,
     "metadata": {},
     "output_type": "execute_result"
    }
   ],
   "source": [
    "# Choose a cutoff value and create a list of application types to be replaced\n",
    "# use the variable name `application_types_to_replace`\n",
    "application_types_to_replace_4 = list(application_df_4['APPLICATION_TYPE'].value_counts().index[8:])\n",
    "\n",
    "# Replace in dataframe\n",
    "for app in application_types_to_replace_4:\n",
    "    application_df_4['APPLICATION_TYPE'] = application_df_4['APPLICATION_TYPE'].replace(app,\"Other\")\n",
    "\n",
    "# Check to make sure binning was successful\n",
    "application_df_4['APPLICATION_TYPE'].value_counts()"
   ]
  },
  {
   "cell_type": "code",
   "execution_count": 58,
   "metadata": {},
   "outputs": [
    {
     "data": {
      "text/plain": [
       "C1000    17326\n",
       "C2000     6074\n",
       "C1200     4837\n",
       "C3000     1918\n",
       "C2100     1883\n",
       "         ...  \n",
       "C4120        1\n",
       "C8210        1\n",
       "C2561        1\n",
       "C4500        1\n",
       "C2150        1\n",
       "Name: CLASSIFICATION, Length: 71, dtype: int64"
      ]
     },
     "execution_count": 58,
     "metadata": {},
     "output_type": "execute_result"
    }
   ],
   "source": [
    "# Look at CLASSIFICATION value counts for binning\n",
    "application_df_4['CLASSIFICATION'].value_counts()"
   ]
  },
  {
   "cell_type": "code",
   "execution_count": 59,
   "metadata": {},
   "outputs": [
    {
     "data": {
      "text/plain": [
       "C1000    17326\n",
       "C2000     6074\n",
       "C1200     4837\n",
       "C3000     1918\n",
       "C2100     1883\n",
       "C7000      777\n",
       "C1700      287\n",
       "C4000      194\n",
       "C5000      116\n",
       "C1270      114\n",
       "C2700      104\n",
       "C2800       95\n",
       "C7100       75\n",
       "C1300       58\n",
       "C1280       50\n",
       "C1230       36\n",
       "C1400       34\n",
       "C7200       32\n",
       "C2300       32\n",
       "C1240       30\n",
       "C8000       20\n",
       "C7120       18\n",
       "C1500       16\n",
       "C1800       15\n",
       "C6000       15\n",
       "C1250       14\n",
       "C8200       11\n",
       "C1238       10\n",
       "C1278       10\n",
       "C1235        9\n",
       "C1237        9\n",
       "C7210        7\n",
       "C2400        6\n",
       "C1720        6\n",
       "C4100        6\n",
       "C1257        5\n",
       "C1600        5\n",
       "C1260        3\n",
       "C2710        3\n",
       "C0           3\n",
       "C3200        2\n",
       "C1234        2\n",
       "C1246        2\n",
       "C1267        2\n",
       "C1256        2\n",
       "Name: CLASSIFICATION, dtype: int64"
      ]
     },
     "execution_count": 59,
     "metadata": {},
     "output_type": "execute_result"
    }
   ],
   "source": [
    "# You may find it helpful to look at CLASSIFICATION value counts >1\n",
    "application_df_4['CLASSIFICATION'].value_counts().loc[application_df_4['CLASSIFICATION'].value_counts() > 1]"
   ]
  },
  {
   "cell_type": "code",
   "execution_count": 60,
   "metadata": {},
   "outputs": [
    {
     "data": {
      "text/plain": [
       "C1000    17326\n",
       "C2000     6074\n",
       "C1200     4837\n",
       "Other     2261\n",
       "C3000     1918\n",
       "C2100     1883\n",
       "Name: CLASSIFICATION, dtype: int64"
      ]
     },
     "execution_count": 60,
     "metadata": {},
     "output_type": "execute_result"
    }
   ],
   "source": [
    "# Choose a cutoff value and create a list of classifications to be replaced\n",
    "# use the variable name `classifications_to_replace`\n",
    "classifications_to_replace_4 = list(application_df_4['CLASSIFICATION'].value_counts().index[5:])\n",
    "\n",
    "# Replace in dataframe\n",
    "for cls in classifications_to_replace_4:\n",
    "    application_df_4['CLASSIFICATION'] = application_df_4['CLASSIFICATION'].replace(cls,\"Other\")\n",
    "    \n",
    "# Check to make sure binning was successful\n",
    "application_df_4['CLASSIFICATION'].value_counts()"
   ]
  },
  {
   "cell_type": "code",
   "execution_count": 61,
   "metadata": {},
   "outputs": [],
   "source": [
    "# Convert categorical data to numeric with `pd.get_dummies`\n",
    "dummy_df_4  = pd.get_dummies(application_df_4)"
   ]
  },
  {
   "cell_type": "code",
   "execution_count": 62,
   "metadata": {},
   "outputs": [],
   "source": [
    "# Split our preprocessed data into our features and target arrays\n",
    "X_4 = dummy_df_4.drop(columns='IS_SUCCESSFUL', axis=1)\n",
    "y_4 = dummy_df_4['IS_SUCCESSFUL']\n",
    "\n",
    "# Split the preprocessed data into a training and testing dataset\n",
    "X_train_4, X_test_4, y_train_4, y_test_4 = train_test_split(X_4, y_4, random_state=1)"
   ]
  },
  {
   "cell_type": "code",
   "execution_count": 63,
   "metadata": {},
   "outputs": [],
   "source": [
    "# Create a StandardScaler instances\n",
    "scaler_4 = StandardScaler()\n",
    "\n",
    "# Fit the StandardScaler\n",
    "X_scaler_4 = scaler_4.fit(X_train_4)\n",
    "\n",
    "# Scale the data\n",
    "X_train_scaled_4 = X_scaler_4.transform(X_train_4)\n",
    "X_test_scaled_4 = X_scaler_4.transform(X_test_4)"
   ]
  },
  {
   "cell_type": "code",
   "execution_count": 64,
   "metadata": {},
   "outputs": [],
   "source": [
    "# Create a method that creates a new Sequential model with hyperparameter options\n",
    "def create_model(hp):\n",
    "    # * instantiate a new Sequential model\n",
    "    nn_model = tf.keras.Sequential()\n",
    "    \n",
    "    # * Allow kerastuner to decide which activation function to use in hidden layers\n",
    "    activation = hp.Choice('activation', ['relu', 'tanh', 'sigmoid', 'leaky_relu'])\n",
    "\n",
    "    # * Number of units for the first hidden layer (80 units in the provided model)\n",
    "    nn_model.add(tf.keras.layers.Dense(units=80, activation=activation, input_dim=len(X_4.columns)))\n",
    "    \n",
    "    # * Number of units for the second hidden layer (30 units in the provided model)\n",
    "    nn_model.add(tf.keras.layers.Dense(units=30, activation=activation))\n",
    "    \n",
    "    # * Adding the output layer\n",
    "    nn_model.add(tf.keras.layers.Dense(units=1, activation=\"sigmoid\"))\n",
    "\n",
    "    # * Complie the model\n",
    "    nn_model.compile(loss='binary_crossentropy', optimizer='adam', metrics=['accuracy']) \n",
    "\n",
    "    return nn_model\n",
    "\n"
   ]
  },
  {
   "cell_type": "code",
   "execution_count": 65,
   "metadata": {},
   "outputs": [
    {
     "name": "stdout",
     "output_type": "stream",
     "text": [
      "Reloading Tuner from ./untitled_project/tuner0.json\n"
     ]
    }
   ],
   "source": [
    "tuner = kt.Hyperband(\n",
    "    create_model,\n",
    "    objective=\"val_accuracy\",\n",
    "    max_epochs=100,\n",
    "    hyperband_iterations=2)"
   ]
  },
  {
   "cell_type": "code",
   "execution_count": 66,
   "metadata": {},
   "outputs": [],
   "source": [
    "# Run the kerastuner search for best hyperparameters with 100 epochs for each configuration\n",
    "tuner.search(X_train_scaled_4,\n",
    "             y_train_4, epochs=100,\n",
    "             validation_data=(X_test_scaled_4, y_test_4),\n",
    "             callbacks=[tf.keras.callbacks.EarlyStopping('val_accuracy', patience=10)])"
   ]
  },
  {
   "cell_type": "code",
   "execution_count": 67,
   "metadata": {},
   "outputs": [
    {
     "name": "stdout",
     "output_type": "stream",
     "text": [
      "{'activation': 'tanh', 'tuner/epochs': 2, 'tuner/initial_epoch': 0, 'tuner/bracket': 4, 'tuner/round': 0}\n",
      "{'activation': 'relu', 'tuner/epochs': 2, 'tuner/initial_epoch': 0, 'tuner/bracket': 4, 'tuner/round': 0}\n",
      "{'activation': 'leaky_relu', 'tuner/epochs': 2, 'tuner/initial_epoch': 0, 'tuner/bracket': 4, 'tuner/round': 0}\n",
      "{'activation': 'sigmoid', 'tuner/epochs': 2, 'tuner/initial_epoch': 0, 'tuner/bracket': 4, 'tuner/round': 0}\n"
     ]
    }
   ],
   "source": [
    "# Get top 3 model hyperparameters and print the values\n",
    "top_hyper = tuner.get_best_hyperparameters(4)\n",
    "for param in top_hyper:\n",
    "    print(param.values)"
   ]
  },
  {
   "cell_type": "code",
   "execution_count": 69,
   "metadata": {},
   "outputs": [
    {
     "name": "stdout",
     "output_type": "stream",
     "text": [
      "WARNING:tensorflow:Detecting that an object or model or tf.train.Checkpoint is being deleted with unrestored values. See the following logs for the specific values in question. To silence these warnings, use `status.expect_partial()`. See https://www.tensorflow.org/api_docs/python/tf/train/Checkpoint#restorefor details about the status object returned by the restore function.\n",
      "WARNING:tensorflow:Value in checkpoint could not be found in the restored object: (root).optimizer.iter\n",
      "WARNING:tensorflow:Value in checkpoint could not be found in the restored object: (root).optimizer.beta_1\n",
      "WARNING:tensorflow:Value in checkpoint could not be found in the restored object: (root).optimizer.beta_2\n",
      "WARNING:tensorflow:Value in checkpoint could not be found in the restored object: (root).optimizer.decay\n",
      "WARNING:tensorflow:Value in checkpoint could not be found in the restored object: (root).optimizer.learning_rate\n",
      "WARNING:tensorflow:Detecting that an object or model or tf.train.Checkpoint is being deleted with unrestored values. See the following logs for the specific values in question. To silence these warnings, use `status.expect_partial()`. See https://www.tensorflow.org/api_docs/python/tf/train/Checkpoint#restorefor details about the status object returned by the restore function.\n",
      "WARNING:tensorflow:Value in checkpoint could not be found in the restored object: (root).optimizer.iter\n",
      "WARNING:tensorflow:Value in checkpoint could not be found in the restored object: (root).optimizer.beta_1\n",
      "WARNING:tensorflow:Value in checkpoint could not be found in the restored object: (root).optimizer.beta_2\n",
      "WARNING:tensorflow:Value in checkpoint could not be found in the restored object: (root).optimizer.decay\n",
      "WARNING:tensorflow:Value in checkpoint could not be found in the restored object: (root).optimizer.learning_rate\n",
      "WARNING:tensorflow:Detecting that an object or model or tf.train.Checkpoint is being deleted with unrestored values. See the following logs for the specific values in question. To silence these warnings, use `status.expect_partial()`. See https://www.tensorflow.org/api_docs/python/tf/train/Checkpoint#restorefor details about the status object returned by the restore function.\n",
      "WARNING:tensorflow:Value in checkpoint could not be found in the restored object: (root).optimizer.iter\n",
      "WARNING:tensorflow:Value in checkpoint could not be found in the restored object: (root).optimizer.beta_1\n",
      "WARNING:tensorflow:Value in checkpoint could not be found in the restored object: (root).optimizer.beta_2\n",
      "WARNING:tensorflow:Value in checkpoint could not be found in the restored object: (root).optimizer.decay\n",
      "WARNING:tensorflow:Value in checkpoint could not be found in the restored object: (root).optimizer.learning_rate\n",
      "268/268 - 0s - loss: 0.5583 - accuracy: 0.7307 - 249ms/epoch - 930us/step\n",
      "Loss: 0.5583305358886719, Accuracy: 0.7307288646697998\n",
      "268/268 - 0s - loss: 0.5557 - accuracy: 0.7306 - 249ms/epoch - 931us/step\n",
      "Loss: 0.5556564927101135, Accuracy: 0.7306122183799744\n",
      "268/268 - 0s - loss: 0.5602 - accuracy: 0.7299 - 251ms/epoch - 936us/step\n",
      "Loss: 0.5601853132247925, Accuracy: 0.729912519454956\n"
     ]
    }
   ],
   "source": [
    "# Evaluate the top 3 models against the test dataset\n",
    "top_model = tuner.get_best_models(3)\n",
    "for model in top_model:\n",
    "    model_loss, model_accuracy = model.evaluate(X_test_scaled_4,y_test_4,verbose=2)\n",
    "    print(f\"Loss: {model_loss}, Accuracy: {model_accuracy}\")"
   ]
  },
  {
   "cell_type": "code",
   "execution_count": 70,
   "metadata": {},
   "outputs": [
    {
     "data": {
      "text/plain": [
       "{'activation': 'tanh',\n",
       " 'tuner/epochs': 2,\n",
       " 'tuner/initial_epoch': 0,\n",
       " 'tuner/bracket': 4,\n",
       " 'tuner/round': 0}"
      ]
     },
     "execution_count": 70,
     "metadata": {},
     "output_type": "execute_result"
    }
   ],
   "source": [
    "# Get second best model hyperparameters\n",
    "first_hyper = tuner.get_best_hyperparameters(2)[0]\n",
    "first_hyper.values"
   ]
  },
  {
   "cell_type": "code",
   "execution_count": 71,
   "metadata": {},
   "outputs": [
    {
     "name": "stdout",
     "output_type": "stream",
     "text": [
      "268/268 - 0s - loss: 0.5583 - accuracy: 0.7307 - 246ms/epoch - 918us/step\n",
      "Loss: 0.5583305358886719, Accuracy: 0.7307288646697998\n"
     ]
    }
   ],
   "source": [
    "top_model = tuner.get_best_models(1)\n",
    "for model in top_model:\n",
    "    model_loss, model_accuracy = model.evaluate(X_test_scaled_4,y_test_4,verbose=2)\n",
    "    print(f\"Loss: {model_loss}, Accuracy: {model_accuracy}\")"
   ]
  },
  {
   "attachments": {},
   "cell_type": "markdown",
   "metadata": {},
   "source": [
    "As we can see, changing the activation functions in our model also didn't improve the performance of the model relative to the original model with increased amount of apochs. So we can conclude that the original model with the increased amount of apochs performed the best with accuracy score of **0.7470**."
   ]
  },
  {
   "cell_type": "code",
   "execution_count": 72,
   "metadata": {},
   "outputs": [],
   "source": [
    "# Export our optimised model to HDF5 file\n",
    "nn_2.save('AlphabetSoupCharity_Optimisation.h5')"
   ]
  },
  {
   "cell_type": "markdown",
   "metadata": {},
   "source": []
  }
 ],
 "metadata": {
  "kernelspec": {
   "display_name": "dev",
   "language": "python",
   "name": "python3"
  },
  "language_info": {
   "codemirror_mode": {
    "name": "ipython",
    "version": 3
   },
   "file_extension": ".py",
   "mimetype": "text/x-python",
   "name": "python",
   "nbconvert_exporter": "python",
   "pygments_lexer": "ipython3",
   "version": "3.10.13"
  },
  "orig_nbformat": 4
 },
 "nbformat": 4,
 "nbformat_minor": 2
}
