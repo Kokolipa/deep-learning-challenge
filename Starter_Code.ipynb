{
 "cells": [
  {
   "cell_type": "markdown",
   "metadata": {},
   "source": [
    "## Preprocessing"
   ]
  },
  {
   "cell_type": "code",
   "execution_count": 1,
   "metadata": {},
   "outputs": [
    {
     "name": "stdout",
     "output_type": "stream",
     "text": [
      "Intel MKL WARNING: Support of Intel(R) Streaming SIMD Extensions 4.2 (Intel(R) SSE4.2) enabled only processors has been deprecated. Intel oneAPI Math Kernel Library 2025.0 will require Intel(R) Advanced Vector Extensions (Intel(R) AVX) instructions.\n",
      "Intel MKL WARNING: Support of Intel(R) Streaming SIMD Extensions 4.2 (Intel(R) SSE4.2) enabled only processors has been deprecated. Intel oneAPI Math Kernel Library 2025.0 will require Intel(R) Advanced Vector Extensions (Intel(R) AVX) instructions.\n"
     ]
    },
    {
     "name": "stderr",
     "output_type": "stream",
     "text": [
      "2023-10-20 10:02:58.152455: I tensorflow/core/platform/cpu_feature_guard.cc:193] This TensorFlow binary is optimized with oneAPI Deep Neural Network Library (oneDNN) to use the following CPU instructions in performance-critical operations:  SSE4.1 SSE4.2\n",
      "To enable them in other operations, rebuild TensorFlow with the appropriate compiler flags.\n"
     ]
    },
    {
     "data": {
      "text/html": [
       "<div>\n",
       "<style scoped>\n",
       "    .dataframe tbody tr th:only-of-type {\n",
       "        vertical-align: middle;\n",
       "    }\n",
       "\n",
       "    .dataframe tbody tr th {\n",
       "        vertical-align: top;\n",
       "    }\n",
       "\n",
       "    .dataframe thead th {\n",
       "        text-align: right;\n",
       "    }\n",
       "</style>\n",
       "<table border=\"1\" class=\"dataframe\">\n",
       "  <thead>\n",
       "    <tr style=\"text-align: right;\">\n",
       "      <th></th>\n",
       "      <th>EIN</th>\n",
       "      <th>NAME</th>\n",
       "      <th>APPLICATION_TYPE</th>\n",
       "      <th>AFFILIATION</th>\n",
       "      <th>CLASSIFICATION</th>\n",
       "      <th>USE_CASE</th>\n",
       "      <th>ORGANIZATION</th>\n",
       "      <th>STATUS</th>\n",
       "      <th>INCOME_AMT</th>\n",
       "      <th>SPECIAL_CONSIDERATIONS</th>\n",
       "      <th>ASK_AMT</th>\n",
       "      <th>IS_SUCCESSFUL</th>\n",
       "    </tr>\n",
       "  </thead>\n",
       "  <tbody>\n",
       "    <tr>\n",
       "      <th>0</th>\n",
       "      <td>10520599</td>\n",
       "      <td>BLUE KNIGHTS MOTORCYCLE CLUB</td>\n",
       "      <td>T10</td>\n",
       "      <td>Independent</td>\n",
       "      <td>C1000</td>\n",
       "      <td>ProductDev</td>\n",
       "      <td>Association</td>\n",
       "      <td>1</td>\n",
       "      <td>0</td>\n",
       "      <td>N</td>\n",
       "      <td>5000</td>\n",
       "      <td>1</td>\n",
       "    </tr>\n",
       "    <tr>\n",
       "      <th>1</th>\n",
       "      <td>10531628</td>\n",
       "      <td>AMERICAN CHESAPEAKE CLUB CHARITABLE TR</td>\n",
       "      <td>T3</td>\n",
       "      <td>Independent</td>\n",
       "      <td>C2000</td>\n",
       "      <td>Preservation</td>\n",
       "      <td>Co-operative</td>\n",
       "      <td>1</td>\n",
       "      <td>1-9999</td>\n",
       "      <td>N</td>\n",
       "      <td>108590</td>\n",
       "      <td>1</td>\n",
       "    </tr>\n",
       "    <tr>\n",
       "      <th>2</th>\n",
       "      <td>10547893</td>\n",
       "      <td>ST CLOUD PROFESSIONAL FIREFIGHTERS</td>\n",
       "      <td>T5</td>\n",
       "      <td>CompanySponsored</td>\n",
       "      <td>C3000</td>\n",
       "      <td>ProductDev</td>\n",
       "      <td>Association</td>\n",
       "      <td>1</td>\n",
       "      <td>0</td>\n",
       "      <td>N</td>\n",
       "      <td>5000</td>\n",
       "      <td>0</td>\n",
       "    </tr>\n",
       "    <tr>\n",
       "      <th>3</th>\n",
       "      <td>10553066</td>\n",
       "      <td>SOUTHSIDE ATHLETIC ASSOCIATION</td>\n",
       "      <td>T3</td>\n",
       "      <td>CompanySponsored</td>\n",
       "      <td>C2000</td>\n",
       "      <td>Preservation</td>\n",
       "      <td>Trust</td>\n",
       "      <td>1</td>\n",
       "      <td>10000-24999</td>\n",
       "      <td>N</td>\n",
       "      <td>6692</td>\n",
       "      <td>1</td>\n",
       "    </tr>\n",
       "    <tr>\n",
       "      <th>4</th>\n",
       "      <td>10556103</td>\n",
       "      <td>GENETIC RESEARCH INSTITUTE OF THE DESERT</td>\n",
       "      <td>T3</td>\n",
       "      <td>Independent</td>\n",
       "      <td>C1000</td>\n",
       "      <td>Heathcare</td>\n",
       "      <td>Trust</td>\n",
       "      <td>1</td>\n",
       "      <td>100000-499999</td>\n",
       "      <td>N</td>\n",
       "      <td>142590</td>\n",
       "      <td>1</td>\n",
       "    </tr>\n",
       "  </tbody>\n",
       "</table>\n",
       "</div>"
      ],
      "text/plain": [
       "        EIN                                      NAME APPLICATION_TYPE  \\\n",
       "0  10520599              BLUE KNIGHTS MOTORCYCLE CLUB              T10   \n",
       "1  10531628    AMERICAN CHESAPEAKE CLUB CHARITABLE TR               T3   \n",
       "2  10547893        ST CLOUD PROFESSIONAL FIREFIGHTERS               T5   \n",
       "3  10553066            SOUTHSIDE ATHLETIC ASSOCIATION               T3   \n",
       "4  10556103  GENETIC RESEARCH INSTITUTE OF THE DESERT               T3   \n",
       "\n",
       "        AFFILIATION CLASSIFICATION      USE_CASE  ORGANIZATION  STATUS  \\\n",
       "0       Independent          C1000    ProductDev   Association       1   \n",
       "1       Independent          C2000  Preservation  Co-operative       1   \n",
       "2  CompanySponsored          C3000    ProductDev   Association       1   \n",
       "3  CompanySponsored          C2000  Preservation         Trust       1   \n",
       "4       Independent          C1000     Heathcare         Trust       1   \n",
       "\n",
       "      INCOME_AMT SPECIAL_CONSIDERATIONS  ASK_AMT  IS_SUCCESSFUL  \n",
       "0              0                      N     5000              1  \n",
       "1         1-9999                      N   108590              1  \n",
       "2              0                      N     5000              0  \n",
       "3    10000-24999                      N     6692              1  \n",
       "4  100000-499999                      N   142590              1  "
      ]
     },
     "execution_count": 1,
     "metadata": {},
     "output_type": "execute_result"
    }
   ],
   "source": [
    "# Import our dependencies\n",
    "from sklearn.model_selection import train_test_split\n",
    "from sklearn.preprocessing import StandardScaler\n",
    "import pandas as pd\n",
    "import tensorflow as tf\n",
    "\n",
    "#  Import and read the charity_data.csv.\n",
    "import pandas as pd \n",
    "application_df = pd.read_csv(\"https://static.bc-edx.com/data/dla-1-2/m21/lms/starter/charity_data.csv\")\n",
    "application_df.head()"
   ]
  },
  {
   "cell_type": "code",
   "execution_count": 2,
   "metadata": {},
   "outputs": [],
   "source": [
    "# Drop the non-beneficial ID columns, 'EIN' and 'NAME'.\n",
    "application_df.drop(columns=['EIN', 'NAME'], axis=1, inplace=True)"
   ]
  },
  {
   "cell_type": "code",
   "execution_count": 3,
   "metadata": {},
   "outputs": [
    {
     "data": {
      "text/plain": [
       "APPLICATION_TYPE            17\n",
       "AFFILIATION                  6\n",
       "CLASSIFICATION              71\n",
       "USE_CASE                     5\n",
       "ORGANIZATION                 4\n",
       "STATUS                       2\n",
       "INCOME_AMT                   9\n",
       "SPECIAL_CONSIDERATIONS       2\n",
       "ASK_AMT                   8747\n",
       "IS_SUCCESSFUL                2\n",
       "dtype: int64"
      ]
     },
     "execution_count": 3,
     "metadata": {},
     "output_type": "execute_result"
    }
   ],
   "source": [
    "# Determine the number of unique values in each column.\n",
    "application_df.nunique()"
   ]
  },
  {
   "cell_type": "code",
   "execution_count": 4,
   "metadata": {},
   "outputs": [
    {
     "data": {
      "text/plain": [
       "T3     27037\n",
       "T4      1542\n",
       "T6      1216\n",
       "T5      1173\n",
       "T19     1065\n",
       "T8       737\n",
       "T7       725\n",
       "T10      528\n",
       "T9       156\n",
       "T13       66\n",
       "T12       27\n",
       "T2        16\n",
       "T25        3\n",
       "T14        3\n",
       "T29        2\n",
       "T15        2\n",
       "T17        1\n",
       "Name: APPLICATION_TYPE, dtype: int64"
      ]
     },
     "execution_count": 4,
     "metadata": {},
     "output_type": "execute_result"
    }
   ],
   "source": [
    "# Look at APPLICATION_TYPE value counts for binning\n",
    "application_df['APPLICATION_TYPE'].value_counts()"
   ]
  },
  {
   "cell_type": "code",
   "execution_count": 5,
   "metadata": {},
   "outputs": [
    {
     "data": {
      "text/plain": [
       "T3       27037\n",
       "T4        1542\n",
       "T6        1216\n",
       "T5        1173\n",
       "T19       1065\n",
       "T8         737\n",
       "T7         725\n",
       "T10        528\n",
       "Other      276\n",
       "Name: APPLICATION_TYPE, dtype: int64"
      ]
     },
     "execution_count": 5,
     "metadata": {},
     "output_type": "execute_result"
    }
   ],
   "source": [
    "# Choose a cutoff value and create a list of application types to be replaced\n",
    "# use the variable name `application_types_to_replace`\n",
    "application_types_to_replace = list(application_df['APPLICATION_TYPE'].value_counts().index[8:])\n",
    "\n",
    "# Replace in dataframe\n",
    "for app in application_types_to_replace:\n",
    "    application_df['APPLICATION_TYPE'] = application_df['APPLICATION_TYPE'].replace(app,\"Other\")\n",
    "\n",
    "# Check to make sure binning was successful\n",
    "application_df['APPLICATION_TYPE'].value_counts()"
   ]
  },
  {
   "cell_type": "code",
   "execution_count": 6,
   "metadata": {},
   "outputs": [
    {
     "data": {
      "text/plain": [
       "C1000    17326\n",
       "C2000     6074\n",
       "C1200     4837\n",
       "C3000     1918\n",
       "C2100     1883\n",
       "         ...  \n",
       "C4120        1\n",
       "C8210        1\n",
       "C2561        1\n",
       "C4500        1\n",
       "C2150        1\n",
       "Name: CLASSIFICATION, Length: 71, dtype: int64"
      ]
     },
     "execution_count": 6,
     "metadata": {},
     "output_type": "execute_result"
    }
   ],
   "source": [
    "# Look at CLASSIFICATION value counts for binning\n",
    "application_df['CLASSIFICATION'].value_counts()"
   ]
  },
  {
   "cell_type": "code",
   "execution_count": 7,
   "metadata": {},
   "outputs": [
    {
     "data": {
      "text/plain": [
       "C1000    17326\n",
       "C2000     6074\n",
       "C1200     4837\n",
       "C3000     1918\n",
       "C2100     1883\n",
       "C7000      777\n",
       "C1700      287\n",
       "C4000      194\n",
       "C5000      116\n",
       "C1270      114\n",
       "C2700      104\n",
       "C2800       95\n",
       "C7100       75\n",
       "C1300       58\n",
       "C1280       50\n",
       "C1230       36\n",
       "C1400       34\n",
       "C7200       32\n",
       "C2300       32\n",
       "C1240       30\n",
       "C8000       20\n",
       "C7120       18\n",
       "C1500       16\n",
       "C1800       15\n",
       "C6000       15\n",
       "C1250       14\n",
       "C8200       11\n",
       "C1238       10\n",
       "C1278       10\n",
       "C1235        9\n",
       "C1237        9\n",
       "C7210        7\n",
       "C2400        6\n",
       "C1720        6\n",
       "C4100        6\n",
       "C1257        5\n",
       "C1600        5\n",
       "C1260        3\n",
       "C2710        3\n",
       "C0           3\n",
       "C3200        2\n",
       "C1234        2\n",
       "C1246        2\n",
       "C1267        2\n",
       "C1256        2\n",
       "Name: CLASSIFICATION, dtype: int64"
      ]
     },
     "execution_count": 7,
     "metadata": {},
     "output_type": "execute_result"
    }
   ],
   "source": [
    "# You may find it helpful to look at CLASSIFICATION value counts >1\n",
    "application_df['CLASSIFICATION'].value_counts().loc[application_df['CLASSIFICATION'].value_counts() > 1]"
   ]
  },
  {
   "cell_type": "code",
   "execution_count": 8,
   "metadata": {},
   "outputs": [
    {
     "data": {
      "text/plain": [
       "C1000    17326\n",
       "C2000     6074\n",
       "C1200     4837\n",
       "Other     2261\n",
       "C3000     1918\n",
       "C2100     1883\n",
       "Name: CLASSIFICATION, dtype: int64"
      ]
     },
     "execution_count": 8,
     "metadata": {},
     "output_type": "execute_result"
    }
   ],
   "source": [
    "# Choose a cutoff value and create a list of classifications to be replaced\n",
    "# use the variable name `classifications_to_replace`\n",
    "classifications_to_replace = list(application_df['CLASSIFICATION'].value_counts().index[5:])\n",
    "\n",
    "# Replace in dataframe\n",
    "for cls in classifications_to_replace:\n",
    "    application_df['CLASSIFICATION'] = application_df['CLASSIFICATION'].replace(cls,\"Other\")\n",
    "    \n",
    "# Check to make sure binning was successful\n",
    "application_df['CLASSIFICATION'].value_counts()"
   ]
  },
  {
   "cell_type": "code",
   "execution_count": 9,
   "metadata": {},
   "outputs": [
    {
     "name": "stdout",
     "output_type": "stream",
     "text": [
      "<class 'pandas.core.frame.DataFrame'>\n",
      "RangeIndex: 34299 entries, 0 to 34298\n",
      "Data columns (total 10 columns):\n",
      " #   Column                  Non-Null Count  Dtype \n",
      "---  ------                  --------------  ----- \n",
      " 0   APPLICATION_TYPE        34299 non-null  object\n",
      " 1   AFFILIATION             34299 non-null  object\n",
      " 2   CLASSIFICATION          34299 non-null  object\n",
      " 3   USE_CASE                34299 non-null  object\n",
      " 4   ORGANIZATION            34299 non-null  object\n",
      " 5   STATUS                  34299 non-null  int64 \n",
      " 6   INCOME_AMT              34299 non-null  object\n",
      " 7   SPECIAL_CONSIDERATIONS  34299 non-null  object\n",
      " 8   ASK_AMT                 34299 non-null  int64 \n",
      " 9   IS_SUCCESSFUL           34299 non-null  int64 \n",
      "dtypes: int64(3), object(7)\n",
      "memory usage: 2.6+ MB\n"
     ]
    }
   ],
   "source": [
    "application_df.info()"
   ]
  },
  {
   "cell_type": "code",
   "execution_count": 10,
   "metadata": {},
   "outputs": [],
   "source": [
    "# Convert categorical data to numeric with `pd.get_dummies`\n",
    "dummy_df  = pd.get_dummies(application_df)"
   ]
  },
  {
   "cell_type": "code",
   "execution_count": 11,
   "metadata": {},
   "outputs": [],
   "source": [
    "# Split our preprocessed data into our features and target arrays\n",
    "X = dummy_df.drop(columns='IS_SUCCESSFUL', axis=1)\n",
    "y = dummy_df['IS_SUCCESSFUL']\n",
    "\n",
    "# Split the preprocessed data into a training and testing dataset\n",
    "X_train, X_test, y_train, y_test = train_test_split(X, y, random_state=1)"
   ]
  },
  {
   "cell_type": "code",
   "execution_count": 12,
   "metadata": {},
   "outputs": [],
   "source": [
    "# Create a StandardScaler instances\n",
    "scaler = StandardScaler()\n",
    "\n",
    "# Fit the StandardScaler\n",
    "X_scaler = scaler.fit(X_train)\n",
    "\n",
    "# Scale the data\n",
    "X_train_scaled = X_scaler.transform(X_train)\n",
    "X_test_scaled = X_scaler.transform(X_test)"
   ]
  },
  {
   "cell_type": "code",
   "execution_count": 13,
   "metadata": {},
   "outputs": [
    {
     "data": {
      "text/plain": [
       "(25724, 43)"
      ]
     },
     "execution_count": 13,
     "metadata": {},
     "output_type": "execute_result"
    }
   ],
   "source": [
    "X_train_scaled.shape"
   ]
  },
  {
   "cell_type": "markdown",
   "metadata": {},
   "source": [
    "## Compile, Train and Evaluate the Model"
   ]
  },
  {
   "cell_type": "code",
   "execution_count": 14,
   "metadata": {},
   "outputs": [
    {
     "name": "stdout",
     "output_type": "stream",
     "text": [
      "Model: \"sequential\"\n",
      "_________________________________________________________________\n",
      " Layer (type)                Output Shape              Param #   \n",
      "=================================================================\n",
      " dense (Dense)               (None, 80)                3520      \n",
      "                                                                 \n",
      " dense_1 (Dense)             (None, 30)                2430      \n",
      "                                                                 \n",
      " dense_2 (Dense)             (None, 1)                 31        \n",
      "                                                                 \n",
      "=================================================================\n",
      "Total params: 5,981\n",
      "Trainable params: 5,981\n",
      "Non-trainable params: 0\n",
      "_________________________________________________________________\n"
     ]
    },
    {
     "name": "stderr",
     "output_type": "stream",
     "text": [
      "2023-10-20 10:03:04.904387: I tensorflow/core/platform/cpu_feature_guard.cc:193] This TensorFlow binary is optimized with oneAPI Deep Neural Network Library (oneDNN) to use the following CPU instructions in performance-critical operations:  SSE4.1 SSE4.2\n",
      "To enable them in other operations, rebuild TensorFlow with the appropriate compiler flags.\n"
     ]
    }
   ],
   "source": [
    "# Define the model - deep neural net, i.e., the number of input features and hidden nodes for each layer.\n",
    "hidden_layer_1 = 80\n",
    "hidden_layer_2 = 30\n",
    "output_layer = 1 \n",
    "\n",
    "\n",
    "nn = tf.keras.models.Sequential()\n",
    "\n",
    "# First hidden layer\n",
    "nn.add(tf.keras.layers.Dense(units=hidden_layer_1, activation='relu',input_dim=len(X.columns)))\n",
    "\n",
    "# Second hidden layer\n",
    "nn.add(tf.keras.layers.Dense(units=hidden_layer_2, activation='tanh'))\n",
    "\n",
    "# Output layer\n",
    "nn.add(tf.keras.layers.Dense(units=output_layer, activation='sigmoid'))\n",
    "\n",
    "# Check the structure of the model\n",
    "nn.summary()"
   ]
  },
  {
   "cell_type": "code",
   "execution_count": 15,
   "metadata": {},
   "outputs": [],
   "source": [
    "# Compile the model\n",
    "nn.compile(loss='binary_crossentropy', optimizer='adam', metrics=['accuracy'])\n",
    "\n",
    "# Define a callback to save the model's weights every five epochs\n",
    "checkpoint_filepath = 'model_weights.h5'\n",
    "model_checkpoint_callback = tf.keras.callbacks.ModelCheckpoint(\n",
    "    filepath=checkpoint_filepath,\n",
    "    save_weights_only=True,\n",
    "    save_freq = 5 * len(X_train_scaled) // 32)  # Save every five epochs"
   ]
  },
  {
   "cell_type": "code",
   "execution_count": 16,
   "metadata": {},
   "outputs": [
    {
     "name": "stdout",
     "output_type": "stream",
     "text": [
      "Epoch 1/100\n",
      "268/268 [==============================] - 1s 783us/step - loss: 0.5838 - accuracy: 0.7106\n",
      "Epoch 2/100\n",
      "268/268 [==============================] - 0s 824us/step - loss: 0.5603 - accuracy: 0.7273\n",
      "Epoch 3/100\n",
      "268/268 [==============================] - 0s 926us/step - loss: 0.5559 - accuracy: 0.7296\n",
      "Epoch 4/100\n",
      "268/268 [==============================] - 0s 1ms/step - loss: 0.5537 - accuracy: 0.7300\n",
      "Epoch 5/100\n",
      "268/268 [==============================] - 0s 880us/step - loss: 0.5512 - accuracy: 0.7339\n",
      "Epoch 6/100\n",
      "268/268 [==============================] - 0s 865us/step - loss: 0.5494 - accuracy: 0.7326\n",
      "Epoch 7/100\n",
      "268/268 [==============================] - 0s 1ms/step - loss: 0.5496 - accuracy: 0.7317\n",
      "Epoch 8/100\n",
      "268/268 [==============================] - 0s 823us/step - loss: 0.5470 - accuracy: 0.7318\n",
      "Epoch 9/100\n",
      "268/268 [==============================] - 0s 981us/step - loss: 0.5453 - accuracy: 0.7347\n",
      "Epoch 10/100\n",
      "268/268 [==============================] - 0s 978us/step - loss: 0.5462 - accuracy: 0.7345\n",
      "Epoch 11/100\n",
      "268/268 [==============================] - 0s 1ms/step - loss: 0.5450 - accuracy: 0.7340\n",
      "Epoch 12/100\n",
      "268/268 [==============================] - 0s 1ms/step - loss: 0.5444 - accuracy: 0.7355\n",
      "Epoch 13/100\n",
      "268/268 [==============================] - 0s 1ms/step - loss: 0.5441 - accuracy: 0.7348\n",
      "Epoch 14/100\n",
      "268/268 [==============================] - 0s 1ms/step - loss: 0.5434 - accuracy: 0.7367\n",
      "Epoch 15/100\n",
      "268/268 [==============================] - 0s 1ms/step - loss: 0.5428 - accuracy: 0.7352\n",
      "Epoch 16/100\n",
      "268/268 [==============================] - 0s 914us/step - loss: 0.5409 - accuracy: 0.7350\n",
      "Epoch 17/100\n",
      "268/268 [==============================] - 0s 1ms/step - loss: 0.5417 - accuracy: 0.7354\n",
      "Epoch 18/100\n",
      "268/268 [==============================] - 0s 973us/step - loss: 0.5404 - accuracy: 0.7360\n",
      "Epoch 19/100\n",
      "268/268 [==============================] - 0s 1ms/step - loss: 0.5409 - accuracy: 0.7377\n",
      "Epoch 20/100\n",
      "268/268 [==============================] - 0s 872us/step - loss: 0.5402 - accuracy: 0.7380\n",
      "Epoch 21/100\n",
      "268/268 [==============================] - 0s 904us/step - loss: 0.5399 - accuracy: 0.7383\n",
      "Epoch 22/100\n",
      "268/268 [==============================] - 0s 912us/step - loss: 0.5385 - accuracy: 0.7396\n",
      "Epoch 23/100\n",
      "268/268 [==============================] - 0s 1ms/step - loss: 0.5388 - accuracy: 0.7384\n",
      "Epoch 24/100\n",
      "268/268 [==============================] - 0s 853us/step - loss: 0.5384 - accuracy: 0.7391\n",
      "Epoch 25/100\n",
      "268/268 [==============================] - 0s 885us/step - loss: 0.5379 - accuracy: 0.7383\n",
      "Epoch 26/100\n",
      "268/268 [==============================] - 0s 973us/step - loss: 0.5376 - accuracy: 0.7380\n",
      "Epoch 27/100\n",
      "268/268 [==============================] - 0s 1ms/step - loss: 0.5375 - accuracy: 0.7389\n",
      "Epoch 28/100\n",
      "268/268 [==============================] - 0s 1ms/step - loss: 0.5369 - accuracy: 0.7387\n",
      "Epoch 29/100\n",
      "268/268 [==============================] - 0s 845us/step - loss: 0.5362 - accuracy: 0.7418\n",
      "Epoch 30/100\n",
      "268/268 [==============================] - 0s 917us/step - loss: 0.5361 - accuracy: 0.7374\n",
      "Epoch 31/100\n",
      "268/268 [==============================] - 0s 933us/step - loss: 0.5365 - accuracy: 0.7401\n",
      "Epoch 32/100\n",
      "268/268 [==============================] - 0s 1ms/step - loss: 0.5371 - accuracy: 0.7404\n",
      "Epoch 33/100\n",
      "268/268 [==============================] - 0s 975us/step - loss: 0.5359 - accuracy: 0.7409\n",
      "Epoch 34/100\n",
      "268/268 [==============================] - 0s 853us/step - loss: 0.5362 - accuracy: 0.7399\n",
      "Epoch 35/100\n",
      "268/268 [==============================] - 0s 835us/step - loss: 0.5353 - accuracy: 0.7411\n",
      "Epoch 36/100\n",
      "268/268 [==============================] - 0s 979us/step - loss: 0.5344 - accuracy: 0.7409\n",
      "Epoch 37/100\n",
      "268/268 [==============================] - 0s 1ms/step - loss: 0.5352 - accuracy: 0.7406\n",
      "Epoch 38/100\n",
      "268/268 [==============================] - 0s 845us/step - loss: 0.5342 - accuracy: 0.7387\n",
      "Epoch 39/100\n",
      "268/268 [==============================] - 0s 1ms/step - loss: 0.5344 - accuracy: 0.7410\n",
      "Epoch 40/100\n",
      "268/268 [==============================] - 0s 894us/step - loss: 0.5337 - accuracy: 0.7430\n",
      "Epoch 41/100\n",
      "268/268 [==============================] - 0s 1ms/step - loss: 0.5330 - accuracy: 0.7417\n",
      "Epoch 42/100\n",
      "268/268 [==============================] - 0s 960us/step - loss: 0.5328 - accuracy: 0.7432\n",
      "Epoch 43/100\n",
      "268/268 [==============================] - 0s 986us/step - loss: 0.5326 - accuracy: 0.7403\n",
      "Epoch 44/100\n",
      "268/268 [==============================] - 0s 1ms/step - loss: 0.5330 - accuracy: 0.7405\n",
      "Epoch 45/100\n",
      "268/268 [==============================] - 0s 915us/step - loss: 0.5330 - accuracy: 0.7437\n",
      "Epoch 46/100\n",
      "268/268 [==============================] - 0s 1ms/step - loss: 0.5330 - accuracy: 0.7413\n",
      "Epoch 47/100\n",
      "268/268 [==============================] - 0s 825us/step - loss: 0.5324 - accuracy: 0.7420\n",
      "Epoch 48/100\n",
      "268/268 [==============================] - 0s 880us/step - loss: 0.5320 - accuracy: 0.7409\n",
      "Epoch 49/100\n",
      "268/268 [==============================] - 0s 874us/step - loss: 0.5323 - accuracy: 0.7420\n",
      "Epoch 50/100\n",
      "268/268 [==============================] - 0s 812us/step - loss: 0.5318 - accuracy: 0.7424\n",
      "Epoch 51/100\n",
      "268/268 [==============================] - 0s 860us/step - loss: 0.5319 - accuracy: 0.7410\n",
      "Epoch 52/100\n",
      "268/268 [==============================] - 0s 852us/step - loss: 0.5315 - accuracy: 0.7408\n",
      "Epoch 53/100\n",
      "268/268 [==============================] - 0s 964us/step - loss: 0.5314 - accuracy: 0.7426\n",
      "Epoch 54/100\n",
      "268/268 [==============================] - 0s 837us/step - loss: 0.5308 - accuracy: 0.7458\n",
      "Epoch 55/100\n",
      "268/268 [==============================] - 0s 848us/step - loss: 0.5306 - accuracy: 0.7418\n",
      "Epoch 56/100\n",
      "268/268 [==============================] - 0s 853us/step - loss: 0.5313 - accuracy: 0.7437\n",
      "Epoch 57/100\n",
      "268/268 [==============================] - 0s 925us/step - loss: 0.5298 - accuracy: 0.7431\n",
      "Epoch 58/100\n",
      "268/268 [==============================] - 0s 959us/step - loss: 0.5298 - accuracy: 0.7427\n",
      "Epoch 59/100\n",
      "268/268 [==============================] - 0s 897us/step - loss: 0.5303 - accuracy: 0.7445\n",
      "Epoch 60/100\n",
      "268/268 [==============================] - 0s 899us/step - loss: 0.5299 - accuracy: 0.7415\n",
      "Epoch 61/100\n",
      "268/268 [==============================] - 0s 934us/step - loss: 0.5298 - accuracy: 0.7417\n",
      "Epoch 62/100\n",
      "268/268 [==============================] - 0s 922us/step - loss: 0.5299 - accuracy: 0.7445\n",
      "Epoch 63/100\n",
      "268/268 [==============================] - 0s 770us/step - loss: 0.5299 - accuracy: 0.7434\n",
      "Epoch 64/100\n",
      "268/268 [==============================] - 0s 806us/step - loss: 0.5297 - accuracy: 0.7446\n",
      "Epoch 65/100\n",
      "268/268 [==============================] - 0s 809us/step - loss: 0.5290 - accuracy: 0.7432\n",
      "Epoch 66/100\n",
      "268/268 [==============================] - 0s 806us/step - loss: 0.5289 - accuracy: 0.7427\n",
      "Epoch 67/100\n",
      "268/268 [==============================] - 0s 788us/step - loss: 0.5288 - accuracy: 0.7461\n",
      "Epoch 68/100\n",
      "268/268 [==============================] - 0s 799us/step - loss: 0.5286 - accuracy: 0.7444\n",
      "Epoch 69/100\n",
      "268/268 [==============================] - 0s 822us/step - loss: 0.5294 - accuracy: 0.7438\n",
      "Epoch 70/100\n",
      "268/268 [==============================] - 0s 788us/step - loss: 0.5287 - accuracy: 0.7432\n",
      "Epoch 71/100\n",
      "268/268 [==============================] - 0s 837us/step - loss: 0.5280 - accuracy: 0.7431\n",
      "Epoch 72/100\n",
      "268/268 [==============================] - 0s 808us/step - loss: 0.5279 - accuracy: 0.7431\n",
      "Epoch 73/100\n",
      "268/268 [==============================] - 0s 788us/step - loss: 0.5280 - accuracy: 0.7448\n",
      "Epoch 74/100\n",
      "268/268 [==============================] - 0s 801us/step - loss: 0.5280 - accuracy: 0.7443\n",
      "Epoch 75/100\n",
      "268/268 [==============================] - 0s 799us/step - loss: 0.5281 - accuracy: 0.7446\n",
      "Epoch 76/100\n",
      "268/268 [==============================] - 0s 790us/step - loss: 0.5278 - accuracy: 0.7444\n",
      "Epoch 77/100\n",
      "268/268 [==============================] - 0s 787us/step - loss: 0.5280 - accuracy: 0.7422\n",
      "Epoch 78/100\n",
      "268/268 [==============================] - 0s 825us/step - loss: 0.5276 - accuracy: 0.7439\n",
      "Epoch 79/100\n",
      "268/268 [==============================] - 0s 811us/step - loss: 0.5273 - accuracy: 0.7452\n",
      "Epoch 80/100\n",
      "268/268 [==============================] - 0s 833us/step - loss: 0.5276 - accuracy: 0.7444\n",
      "Epoch 81/100\n",
      "268/268 [==============================] - 0s 840us/step - loss: 0.5270 - accuracy: 0.7433\n",
      "Epoch 82/100\n",
      "268/268 [==============================] - 0s 893us/step - loss: 0.5272 - accuracy: 0.7430\n",
      "Epoch 83/100\n",
      "268/268 [==============================] - 0s 979us/step - loss: 0.5271 - accuracy: 0.7453\n",
      "Epoch 84/100\n",
      "268/268 [==============================] - 0s 813us/step - loss: 0.5266 - accuracy: 0.7440\n",
      "Epoch 85/100\n",
      "268/268 [==============================] - 0s 781us/step - loss: 0.5272 - accuracy: 0.7452\n",
      "Epoch 86/100\n",
      "268/268 [==============================] - 0s 814us/step - loss: 0.5265 - accuracy: 0.7443\n",
      "Epoch 87/100\n",
      "268/268 [==============================] - 0s 809us/step - loss: 0.5266 - accuracy: 0.7460\n",
      "Epoch 88/100\n",
      "268/268 [==============================] - 0s 826us/step - loss: 0.5265 - accuracy: 0.7457\n",
      "Epoch 89/100\n",
      "268/268 [==============================] - 0s 799us/step - loss: 0.5260 - accuracy: 0.7458\n",
      "Epoch 90/100\n",
      "268/268 [==============================] - 0s 806us/step - loss: 0.5264 - accuracy: 0.7459\n",
      "Epoch 91/100\n",
      "268/268 [==============================] - 0s 774us/step - loss: 0.5259 - accuracy: 0.7447\n",
      "Epoch 92/100\n",
      "268/268 [==============================] - 0s 781us/step - loss: 0.5258 - accuracy: 0.7450\n",
      "Epoch 93/100\n",
      "268/268 [==============================] - 0s 793us/step - loss: 0.5263 - accuracy: 0.7448\n",
      "Epoch 94/100\n",
      "268/268 [==============================] - 0s 794us/step - loss: 0.5254 - accuracy: 0.7460\n",
      "Epoch 95/100\n",
      "268/268 [==============================] - 0s 779us/step - loss: 0.5257 - accuracy: 0.7455\n",
      "Epoch 96/100\n",
      "268/268 [==============================] - 0s 792us/step - loss: 0.5257 - accuracy: 0.7451\n",
      "Epoch 97/100\n",
      "268/268 [==============================] - 0s 840us/step - loss: 0.5252 - accuracy: 0.7450\n",
      "Epoch 98/100\n",
      "268/268 [==============================] - 0s 790us/step - loss: 0.5252 - accuracy: 0.7453\n",
      "Epoch 99/100\n",
      "268/268 [==============================] - 0s 799us/step - loss: 0.5254 - accuracy: 0.7425\n",
      "Epoch 100/100\n",
      "268/268 [==============================] - 0s 1ms/step - loss: 0.5255 - accuracy: 0.7465\n"
     ]
    },
    {
     "data": {
      "text/plain": [
       "<keras.callbacks.History at 0x7fda72ad74c0>"
      ]
     },
     "execution_count": 16,
     "metadata": {},
     "output_type": "execute_result"
    }
   ],
   "source": [
    "# Train the model\n",
    "nn.fit(X_test_scaled, y_test, epochs=100)"
   ]
  },
  {
   "cell_type": "code",
   "execution_count": 17,
   "metadata": {},
   "outputs": [
    {
     "name": "stdout",
     "output_type": "stream",
     "text": [
      "268/268 - 0s - loss: 0.5211 - accuracy: 0.7481 - 233ms/epoch - 871us/step\n",
      "Loss: 0.521121084690094, Accuracy: 0.7481049299240112\n"
     ]
    }
   ],
   "source": [
    "# Evaluate the model using the test data\n",
    "model_loss, model_accuracy = nn.evaluate(X_test_scaled,y_test,verbose=2)\n",
    "print(f\"Loss: {model_loss}, Accuracy: {model_accuracy}\")"
   ]
  },
  {
   "cell_type": "code",
   "execution_count": 18,
   "metadata": {},
   "outputs": [],
   "source": [
    "# Export our model to HDF5 file\n",
    "nn.save(\"AlphabetSoupCharity.h5\")"
   ]
  }
 ],
 "metadata": {
  "kernelspec": {
   "display_name": "Python 3 (ipykernel)",
   "language": "python",
   "name": "python3"
  },
  "language_info": {
   "codemirror_mode": {
    "name": "ipython",
    "version": 3
   },
   "file_extension": ".py",
   "mimetype": "text/x-python",
   "name": "python",
   "nbconvert_exporter": "python",
   "pygments_lexer": "ipython3",
   "version": "3.10.13"
  },
  "vscode": {
   "interpreter": {
    "hash": "31f2aee4e71d21fbe5cf8b01ff0e069b9275f58929596ceb00d14d90e3e16cd6"
   }
  }
 },
 "nbformat": 4,
 "nbformat_minor": 4
}
